


input_v = input().split()
brightness = float(input_v[0])
threshold = float(input_v[1])

if brightness >= threshold :
    print("ON")
else :
    print("OFF")


print(input_v)
print(brightness)
print(threshold)





input_v = input().split()
x= float(input_v[0])
min_v = float(input_v[1])
max_v = float(input_v[2])
norm = (x - min_v) / (max_v - min_v)
print("{0:.2f}".format(norm))



print(input_v)
print(x)
print(min_v)
print(max_v)
print(norm)





n = int(input())
target = float(input())
total = 0.0
count = 0

while count < n :
  loss = float(input())
  total += loss
  count += 1
avg = total / n



if avg <= target :
  print("PASS")
else :
  print("RETRY")


print(avg)





n = int(input())
yes = 0
no = 0
count = 0

while count < n :
  vote = input()
  if vote == "YES" :
    yes += 1
  else :
    no += 1
  count += 1

if yes > no :
  print("ACCEPT")
else :
  print("REJECT")





n = input().split()


happy_k = {'happy','joy','smile'}
sad_k = {'sad','cry','angry'}


happy_f = False
sad_f = False


for word in happy_k :
  if word in n :
    happy_f = True
    break


for word in sad_k :
  if word in n :
    sad_f = True
    break


if happy_f :
  print("HAPPY Mood")
elif sad_f :
  print("SAD Mood")
else :
  print("NEUTRAL Mood")



print(n)





n = input().split()
pixels = []
for num in n :
  pixels.append(int(num))


avg = sum(pixels) / len(pixels)


if avg < 85 :
  print("Dark Image")
elif avg <= 170 :
  print("Normal Image")
else :
  print("Bright Image")


print(pixels)
print(avg)





n = input().split()
count_a = n.count('A')
count_b = n.count('B')


total = len(n)


percent_a = (count_a / total) * 100
percent_b = (count_b / total) * 100


if percent_a > 70 or percent_b > 70 :
  print("Biased Model")
else :
  print("Fair Model")





print(count_a)
print(count_b)
print(total)
print(percent_a)
print(percent_b)





n = input().split()


keyword = {"ai", "data", "model", "learn", "train", "neural"}


count = sum(1 for w in n if w in keyword)


if count > 2 :
  print("AI Detected")
else :
  print("Not AI Related")


print(n)
print(count)
