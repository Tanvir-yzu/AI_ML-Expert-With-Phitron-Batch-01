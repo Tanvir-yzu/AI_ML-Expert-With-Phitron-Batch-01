{
 "cells": [
  {
   "cell_type": "code",
   "execution_count": 2,
   "id": "4fe65dcb-3248-4019-8fbd-25cd23d9865b",
   "metadata": {},
   "outputs": [],
   "source": [
    "import numpy as np"
   ]
  },
  {
   "cell_type": "markdown",
   "id": "67776b24-bd83-4a6c-8747-11ea7add99d3",
   "metadata": {},
   "source": [
    "# 1 . Create a 1D, 2D, and 3D NumPy array and print their dimensions and shapes."
   ]
  },
  {
   "cell_type": "code",
   "execution_count": 3,
   "id": "8461d709-94e7-4c15-8896-ec158e6ccde1",
   "metadata": {},
   "outputs": [],
   "source": [
    "# 1D array\n",
    "array_1d = np.array([1,2,3,4,5])"
   ]
  },
  {
   "cell_type": "code",
   "execution_count": 6,
   "id": "3cbaf2a9-7a0d-40af-9e77-71ca3c0d81af",
   "metadata": {},
   "outputs": [
    {
     "name": "stdout",
     "output_type": "stream",
     "text": [
      "[1 2 3 4 5]\n",
      "1\n",
      "(5,)\n"
     ]
    }
   ],
   "source": [
    "print(array_1d)\n",
    "print(array_1d.ndim)\n",
    "print(array_1d.shape)"
   ]
  },
  {
   "cell_type": "code",
   "execution_count": 8,
   "id": "22c9c919-1565-4ad5-b5ef-415fc00764c5",
   "metadata": {},
   "outputs": [],
   "source": [
    "# 2D array \n",
    "array_2d = np.array([[1,2,3,4],[5,6,7,8]])"
   ]
  },
  {
   "cell_type": "code",
   "execution_count": 10,
   "id": "6c2e4ded-ca77-44c1-b01b-3153e361cbd2",
   "metadata": {},
   "outputs": [
    {
     "name": "stdout",
     "output_type": "stream",
     "text": [
      "[[1 2 3 4]\n",
      " [5 6 7 8]]\n",
      "2\n",
      "(2, 4)\n"
     ]
    }
   ],
   "source": [
    "print(array_2d)\n",
    "print(array_2d.ndim)\n",
    "print(array_2d.shape)"
   ]
  },
  {
   "cell_type": "code",
   "execution_count": 11,
   "id": "9c663bad-c68f-4f9b-98b8-d00887261992",
   "metadata": {},
   "outputs": [],
   "source": [
    "# 3D array \n",
    "array_3d = np.array([\n",
    "    [[1,2],[3,4]],\n",
    "    [[5,6],[7,8]]\n",
    "])"
   ]
  },
  {
   "cell_type": "code",
   "execution_count": 14,
   "id": "ea5512d3-2fc1-4bab-9cc9-cf7a62f2a476",
   "metadata": {},
   "outputs": [
    {
     "name": "stdout",
     "output_type": "stream",
     "text": [
      "[[[1 2]\n",
      "  [3 4]]\n",
      "\n",
      " [[5 6]\n",
      "  [7 8]]]\n",
      "3\n",
      "(2, 2, 2)\n",
      "8\n"
     ]
    }
   ],
   "source": [
    "print(array_3d)\n",
    "print(array_3d.ndim)\n",
    "print(array_3d.shape)\n",
    "print(array_3d.size)"
   ]
  },
  {
   "cell_type": "markdown",
   "id": "53fce2af-266d-45f0-adaf-642e3ac22aa1",
   "metadata": {},
   "source": [
    "# 2 . Create:\n",
    "an array of zeros of shape (3,3)\n",
    "\n",
    "\n",
    "an array of ones of shape (2,5)\n",
    "\n",
    "\n",
    "an array filled with 7\n"
   ]
  },
  {
   "cell_type": "code",
   "execution_count": 15,
   "id": "b652cfba-d81b-498c-b5c2-763a45ac71c8",
   "metadata": {},
   "outputs": [],
   "source": [
    "zero_array = np.zeros((3,3))"
   ]
  },
  {
   "cell_type": "code",
   "execution_count": 16,
   "id": "939a88ee-364f-4e48-8d9d-49287a8c7169",
   "metadata": {},
   "outputs": [
    {
     "name": "stdout",
     "output_type": "stream",
     "text": [
      "[[0. 0. 0.]\n",
      " [0. 0. 0.]\n",
      " [0. 0. 0.]]\n"
     ]
    }
   ],
   "source": [
    "print(zero_array)"
   ]
  },
  {
   "cell_type": "code",
   "execution_count": 19,
   "id": "cf3ec6f5-77dd-4f00-bcdd-76c58b6ca5e3",
   "metadata": {},
   "outputs": [],
   "source": [
    "ones_array = np.ones((2,5))"
   ]
  },
  {
   "cell_type": "code",
   "execution_count": 20,
   "id": "c9ef20b4-8532-4583-aa23-4f23b6fdac13",
   "metadata": {},
   "outputs": [
    {
     "name": "stdout",
     "output_type": "stream",
     "text": [
      "[[1. 1. 1. 1. 1.]\n",
      " [1. 1. 1. 1. 1.]]\n"
     ]
    }
   ],
   "source": [
    "print(ones_array)"
   ]
  },
  {
   "cell_type": "code",
   "execution_count": 21,
   "id": "cdf9f3d9-bfbc-4efe-9a4d-dcaeee8f1b6d",
   "metadata": {},
   "outputs": [],
   "source": [
    "sevens_array = np.full((3,3),7)"
   ]
  },
  {
   "cell_type": "code",
   "execution_count": 22,
   "id": "4a309675-546a-4998-9b69-693d87d678b0",
   "metadata": {},
   "outputs": [
    {
     "name": "stdout",
     "output_type": "stream",
     "text": [
      "[[7 7 7]\n",
      " [7 7 7]\n",
      " [7 7 7]]\n"
     ]
    }
   ],
   "source": [
    "print(sevens_array)"
   ]
  },
  {
   "cell_type": "markdown",
   "id": "4049e144-e3cb-43dc-ac6f-d30c99ef24a7",
   "metadata": {},
   "source": [
    "# 3 . Create an array of even numbers between 10 and 50 using arange."
   ]
  },
  {
   "cell_type": "code",
   "execution_count": 23,
   "id": "cca25a0a-adcc-48a3-a218-387669b7a31a",
   "metadata": {},
   "outputs": [],
   "source": [
    "even_array = np.arange(10,51,2)"
   ]
  },
  {
   "cell_type": "code",
   "execution_count": 24,
   "id": "a4d7d633-95a7-4a80-a185-48afe4c31cfb",
   "metadata": {},
   "outputs": [
    {
     "name": "stdout",
     "output_type": "stream",
     "text": [
      "[10 12 14 16 18 20 22 24 26 28 30 32 34 36 38 40 42 44 46 48 50]\n"
     ]
    }
   ],
   "source": [
    "print(even_array)"
   ]
  },
  {
   "cell_type": "markdown",
   "id": "278fedbf-c8fe-4ae1-8a48-b54faccfe4a9",
   "metadata": {},
   "source": [
    "# 4 . Create a 4×4 matrix from 0–15. Then , extract:\n",
    "the first row\n",
    "\n",
    "\n",
    "the last column\n",
    "\n",
    "\n",
    "a 2×2 subarray from the center\n"
   ]
  },
  {
   "cell_type": "code",
   "execution_count": 25,
   "id": "798ac411-3609-4dde-93c9-8852cb1ba661",
   "metadata": {},
   "outputs": [],
   "source": [
    "# Create a 4x4 matrix with numbers from 0 to 15\n",
    "matrix = np.arange(16).reshape(4,4)"
   ]
  },
  {
   "cell_type": "code",
   "execution_count": 26,
   "id": "0b78444f-b68a-421e-b289-ea8fd64f29ae",
   "metadata": {},
   "outputs": [
    {
     "name": "stdout",
     "output_type": "stream",
     "text": [
      "[[ 0  1  2  3]\n",
      " [ 4  5  6  7]\n",
      " [ 8  9 10 11]\n",
      " [12 13 14 15]]\n"
     ]
    }
   ],
   "source": [
    "print(matrix)"
   ]
  },
  {
   "cell_type": "code",
   "execution_count": 27,
   "id": "879f5fd8-b891-4aa7-aa11-4267455c47fd",
   "metadata": {},
   "outputs": [],
   "source": [
    "first_row = matrix[0, :]"
   ]
  },
  {
   "cell_type": "code",
   "execution_count": 30,
   "id": "58e9bd90-5e1e-4730-946b-1f4dac5ee4f8",
   "metadata": {},
   "outputs": [
    {
     "name": "stdout",
     "output_type": "stream",
     "text": [
      "[0 1 2 3]\n"
     ]
    }
   ],
   "source": [
    "print(first_row)"
   ]
  },
  {
   "cell_type": "code",
   "execution_count": 35,
   "id": "654ea4f9-d227-49cf-82a5-f50a2288a2ba",
   "metadata": {},
   "outputs": [],
   "source": [
    "last_col = matrix[:,-1]"
   ]
  },
  {
   "cell_type": "code",
   "execution_count": 36,
   "id": "dfff73f6-394b-4568-9a40-2184b5c8adb4",
   "metadata": {},
   "outputs": [
    {
     "name": "stdout",
     "output_type": "stream",
     "text": [
      "[ 3  7 11 15]\n"
     ]
    }
   ],
   "source": [
    "print(last_col)"
   ]
  },
  {
   "cell_type": "code",
   "execution_count": 37,
   "id": "6e1de62c-efdc-446d-91a5-bff07ed44455",
   "metadata": {},
   "outputs": [],
   "source": [
    "center_subarray = matrix[1:3, 1:3]"
   ]
  },
  {
   "cell_type": "code",
   "execution_count": 38,
   "id": "e19e08a2-039b-4ab4-9ce8-c3e9ed949565",
   "metadata": {},
   "outputs": [
    {
     "name": "stdout",
     "output_type": "stream",
     "text": [
      "[[ 5  6]\n",
      " [ 9 10]]\n"
     ]
    }
   ],
   "source": [
    "print(center_subarray)"
   ]
  },
  {
   "cell_type": "markdown",
   "id": "b459263b-7321-40c7-9938-11d8eef25174",
   "metadata": {},
   "source": [
    "# 5 . Add a 1D array [1,2,3] to each row of a 3×3 matrix."
   ]
  },
  {
   "cell_type": "code",
   "execution_count": 43,
   "id": "20b01004-44a5-43d6-bdd6-fb65c0add822",
   "metadata": {},
   "outputs": [],
   "source": [
    "matrix = np.arange(9).reshape(3,3)\n",
    "array_1d = np.array([1,2,3])\n",
    "reault = matrix + array_1d"
   ]
  },
  {
   "cell_type": "code",
   "execution_count": 45,
   "id": "d26ed536-f967-4ddd-aa76-5f844ece79c2",
   "metadata": {},
   "outputs": [
    {
     "name": "stdout",
     "output_type": "stream",
     "text": [
      "[[0 1 2]\n",
      " [3 4 5]\n",
      " [6 7 8]]\n",
      "[1 2 3]\n",
      "[[ 1  3  5]\n",
      " [ 4  6  8]\n",
      " [ 7  9 11]]\n"
     ]
    }
   ],
   "source": [
    "print(matrix)\n",
    "print(array_1d)\n",
    "print(reault)"
   ]
  },
  {
   "cell_type": "markdown",
   "id": "eeed72e0-c0a2-4d23-acb7-7be5ea2c56a7",
   "metadata": {},
   "source": [
    "# 6 . Given two arrays A and B, compute:\n",
    "(A + B) / 2\n",
    "\n",
    "\n",
    "A**2 + B**2\n"
   ]
  },
  {
   "cell_type": "code",
   "execution_count": 52,
   "id": "387ef9d2-747f-42c5-b5b2-50e55c2f2053",
   "metadata": {},
   "outputs": [],
   "source": [
    "a = np.array([1,2,3])\n",
    "b= np.array([4,5,6])\n",
    "reasult1 = (a+b)/2"
   ]
  },
  {
   "cell_type": "code",
   "execution_count": 53,
   "id": "22a15595-dbe9-4eff-9ed3-d7c55d511bb7",
   "metadata": {},
   "outputs": [
    {
     "name": "stdout",
     "output_type": "stream",
     "text": [
      "[2.5 3.5 4.5]\n"
     ]
    }
   ],
   "source": [
    "print(reasult1)"
   ]
  },
  {
   "cell_type": "code",
   "execution_count": 55,
   "id": "1730b106-5dcc-45cb-ae5a-e64aeb21a040",
   "metadata": {},
   "outputs": [
    {
     "name": "stdout",
     "output_type": "stream",
     "text": [
      "[17 29 45]\n"
     ]
    }
   ],
   "source": [
    "# Compute a^2 + b^2\n",
    "result2 = a**2 + b**2\n",
    "print(result2)"
   ]
  },
  {
   "cell_type": "code",
   "execution_count": null,
   "id": "44e2b9d3-61ca-4944-b4b9-42fadd538009",
   "metadata": {},
   "outputs": [],
   "source": []
  }
 ],
 "metadata": {
  "kernelspec": {
   "display_name": "Python 3 (ipykernel)",
   "language": "python",
   "name": "python3"
  },
  "language_info": {
   "codemirror_mode": {
    "name": "ipython",
    "version": 3
   },
   "file_extension": ".py",
   "mimetype": "text/x-python",
   "name": "python",
   "nbconvert_exporter": "python",
   "pygments_lexer": "ipython3",
   "version": "3.13.5"
  },
  "widgets": {
   "application/vnd.jupyter.widget-state+json": {
    "state": {},
    "version_major": 2,
    "version_minor": 0
   }
  }
 },
 "nbformat": 4,
 "nbformat_minor": 5
}
