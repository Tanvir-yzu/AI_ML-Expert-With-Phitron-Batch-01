{
 "cells": [
  {
   "cell_type": "markdown",
   "id": "6da4e63e-74fa-4eb5-bbbf-c7fe1162d37f",
   "metadata": {},
   "source": [
    "Problem 1: Common Friends (Set Operations)\n",
    "Problem:\n",
    " Given two sets of friends from two people, find the mutual friends, unique friends of each, and the total number of unique friends.\n",
    "Example Input:\n",
    "a_friends = {\"Rahim\", \"Karim\", \"Sakib\", \"Jamal\"}\n",
    "b_friends = {\"Sakib\", \"Jamal\", \"Rafiq\", \"Nadim\"}\n",
    "\n",
    "Expected Output:\n",
    "Mutual friends: {'Sakib', 'Jamal'}\n",
    "Unique to A: {'Rahim', 'Karim'}\n",
    "Unique to B: {'Rafiq', 'Nadim'}\n",
    "Total unique friends: 6\n"
   ]
  },
  {
   "cell_type": "code",
   "execution_count": 9,
   "id": "ef30122d-1e56-46e0-bf36-ceb57a8b24a3",
   "metadata": {},
   "outputs": [],
   "source": [
    "a_friends = {\"Rahim\", \"Karim\", \"Sakib\", \"Jamal\"}\n",
    "b_friends = {\"Sakib\", \"Jamal\", \"Rafiq\", \"Nadim\"}\n",
    "\n",
    "Mutual = a_friends & b_friends\n",
    "Unique_a = (a_friends - b_friends)\n",
    "Unique_b = b_friends - a_friends\n",
    "unique_friend = a_friends | b_friends"
   ]
  },
  {
   "cell_type": "code",
   "execution_count": 13,
   "id": "50ce0284-fc0e-45bc-98ee-05d77b5a1c8f",
   "metadata": {},
   "outputs": [
    {
     "name": "stdout",
     "output_type": "stream",
     "text": [
      "{'Jamal', 'Sakib'}\n",
      "{'Karim', 'Rahim'}\n",
      "{'Nadim', 'Rafiq'}\n",
      " Total unique friends:6\n"
     ]
    }
   ],
   "source": [
    "print(Mutual)\n",
    "print(Unique_a)\n",
    "print(Unique_b)\n",
    "print(f\" Total unique friends:{len(unique_friend)}\")"
   ]
  },
  {
   "cell_type": "markdown",
   "id": "36338f71-7c94-441b-b57b-3dcba4a42c0a",
   "metadata": {},
   "source": [
    "Problem 2: Sort Students by Marks (Tuple + Dictionary)\n",
    "Problem:\n",
    " You are given a list of tuples — each containing a student’s name and mark.\n",
    " Sort them in descending order of marks and print the top 3 scorers.\n",
    "Example Input:\n",
    "students = [(\"Rafi\", 89), (\"Sumi\", 95), (\"Hasan\", 90), (\"Nila\", 75), (\"Anik\", 98)]\n",
    "\n",
    "Expected Output:\n",
    "Top 3 students:\n",
    "Anik - 98\n",
    "Sumi - 95\n",
    "Hasan - 90\n"
   ]
  },
  {
   "cell_type": "code",
   "execution_count": 15,
   "id": "795f6dda-3be7-478f-b0c1-71d371ac1860",
   "metadata": {},
   "outputs": [],
   "source": [
    "students = [(\"Rafi\", 89), (\"Sumi\", 95), (\"Hasan\", 90), (\"Nila\", 75), (\"Anik\", 98)]"
   ]
  },
  {
   "cell_type": "code",
   "execution_count": 28,
   "id": "721d9afd-971b-4ea7-bac4-0b9553d99416",
   "metadata": {},
   "outputs": [],
   "source": [
    "s_student = sorted(students,key = lambda x: x[1], reverse=True)"
   ]
  },
  {
   "cell_type": "code",
   "execution_count": 29,
   "id": "bbaed913-4d43-41e0-a81b-e7d366264c3d",
   "metadata": {},
   "outputs": [
    {
     "name": "stdout",
     "output_type": "stream",
     "text": [
      "[('Anik', 98), ('Sumi', 95), ('Hasan', 90), ('Rafi', 89), ('Nila', 75)]\n"
     ]
    }
   ],
   "source": [
    "print(s_student)"
   ]
  },
  {
   "cell_type": "code",
   "execution_count": 30,
   "id": "e0f2d797-46c4-4c5e-8731-11785619b598",
   "metadata": {},
   "outputs": [
    {
     "name": "stdout",
     "output_type": "stream",
     "text": [
      "Anik - 98 \n",
      "Sumi - 95 \n",
      "Hasan - 90 \n"
     ]
    }
   ],
   "source": [
    "for name, mark in s_student[:3]:\n",
    "    print(f\"{name} - {mark} \")"
   ]
  },
  {
   "cell_type": "markdown",
   "id": "0fec9f22-e239-40a2-b538-471cd642769e",
   "metadata": {},
   "source": [
    "Problem 3: Word Length Filter (Lambda + Filter)\n",
    "Problem:\n",
    " Given a list of words, use filter() and lambda to return only words whose length is greater than 4.\n",
    " Example Input:\n",
    "words = [\"sun\", \"planet\", \"moon\", \"star\", \"universe\"]\n",
    "\n",
    "Expected Output:\n",
    "['planet', 'universe']\n"
   ]
  },
  {
   "cell_type": "code",
   "execution_count": 31,
   "id": "bac7b425-7609-4068-9081-e32084a963ff",
   "metadata": {},
   "outputs": [],
   "source": [
    "words = [\"sun\", \"planet\", \"moon\", \"star\", \"universe\"]"
   ]
  },
  {
   "cell_type": "code",
   "execution_count": 33,
   "id": "96111d6f-8989-42e0-97a4-c5a4773100f4",
   "metadata": {},
   "outputs": [],
   "source": [
    "filtwe_w = list(filter(lambda w : len(w) > 4, words))"
   ]
  },
  {
   "cell_type": "code",
   "execution_count": 34,
   "id": "65dfd1f7-3f8e-40d7-b6bf-ee41d6fddaa8",
   "metadata": {},
   "outputs": [
    {
     "name": "stdout",
     "output_type": "stream",
     "text": [
      "['planet', 'universe']\n"
     ]
    }
   ],
   "source": [
    "print(filtwe_w)"
   ]
  },
  {
   "cell_type": "markdown",
   "id": "18c89277-0774-4869-93af-9825c9d93f0e",
   "metadata": {},
   "source": [
    "Problem 4: Square of Even Numbers (Map + Filter + Lambda)\n",
    "Problem:\n",
    " Write a one-line Python expression using map(), filter(), and lambda that takes a list of integers and returns the squares of even numbers only.\n",
    "Example Input:\n",
    "nums = [1, 2, 3, 4, 5, 6]\n",
    "\n",
    "Expected Output:\n",
    "[4, 16, 36]\n"
   ]
  },
  {
   "cell_type": "code",
   "execution_count": 35,
   "id": "b759c839-22da-4aa6-8e1d-43a9e7435511",
   "metadata": {},
   "outputs": [],
   "source": [
    "nums = [1, 2, 3, 4, 5, 6]"
   ]
  },
  {
   "cell_type": "code",
   "execution_count": 36,
   "id": "f9d7f24d-1bad-46af-b93b-ea97d6a1bd55",
   "metadata": {},
   "outputs": [],
   "source": [
    "Square = list(map(lambda x: x**2,filter(lambda x: x % 2 == 0, nums)))"
   ]
  },
  {
   "cell_type": "code",
   "execution_count": 37,
   "id": "a569269f-c2d7-45a6-ad0e-5a2df48bbefd",
   "metadata": {},
   "outputs": [
    {
     "name": "stdout",
     "output_type": "stream",
     "text": [
      "[4, 16, 36]\n"
     ]
    }
   ],
   "source": [
    "print(Square)"
   ]
  },
  {
   "cell_type": "markdown",
   "id": "9ae4f738-fc2c-4cb4-88c4-bc84cf1aec06",
   "metadata": {},
   "source": [
    "Problem 5: Write and Read a File\n",
    "Problem:\n",
    " Write a Python program to:\n",
    "Create a text file named data.txt\n",
    "\n",
    "\n",
    "Write “Learning Python is fun!” into it.\n",
    "\n",
    "\n",
    "Read the file and print its content.\n"
   ]
  },
  {
   "cell_type": "markdown",
   "id": "f6143c1c-b94d-49d9-95c3-07f0b52d6408",
   "metadata": {},
   "source": [
    " Problem 6: Count Lines in a File\n",
    "Problem:\n",
    " Write a Python program to count how many lines are in a text file named story.txt.\n",
    " If the file does not exist, handle the exception and print an error message, otherwise read the text file ( test it with both conditions ). Print a message finally. "
   ]
  }
 ],
 "metadata": {
  "kernelspec": {
   "display_name": "Python 3 (ipykernel)",
   "language": "python",
   "name": "python3"
  },
  "language_info": {
   "codemirror_mode": {
    "name": "ipython",
    "version": 3
   },
   "file_extension": ".py",
   "mimetype": "text/x-python",
   "name": "python",
   "nbconvert_exporter": "python",
   "pygments_lexer": "ipython3",
   "version": "3.13.5"
  },
  "widgets": {
   "application/vnd.jupyter.widget-state+json": {
    "state": {},
    "version_major": 2,
    "version_minor": 0
   }
  }
 },
 "nbformat": 4,
 "nbformat_minor": 5
}
