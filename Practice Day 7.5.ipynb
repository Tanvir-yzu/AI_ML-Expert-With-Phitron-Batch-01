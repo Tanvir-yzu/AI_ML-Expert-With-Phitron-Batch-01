{
 "cells": [
  {
   "cell_type": "markdown",
   "id": "6da4e63e-74fa-4eb5-bbbf-c7fe1162d37f",
   "metadata": {},
   "source": [
    "Problem 1: Common Friends (Set Operations)\n",
    "Problem:\n",
    " Given two sets of friends from two people, find the mutual friends, unique friends of each, and the total number of unique friends.\n",
    "Example Input:\n",
    "a_friends = {\"Rahim\", \"Karim\", \"Sakib\", \"Jamal\"}\n",
    "b_friends = {\"Sakib\", \"Jamal\", \"Rafiq\", \"Nadim\"}\n",
    "\n",
    "Expected Output:\n",
    "Mutual friends: {'Sakib', 'Jamal'}\n",
    "Unique to A: {'Rahim', 'Karim'}\n",
    "Unique to B: {'Rafiq', 'Nadim'}\n",
    "Total unique friends: 6\n"
   ]
  },
  {
   "cell_type": "code",
   "execution_count": 9,
   "id": "ef30122d-1e56-46e0-bf36-ceb57a8b24a3",
   "metadata": {},
   "outputs": [],
   "source": [
    "a_friends = {\"Rahim\", \"Karim\", \"Sakib\", \"Jamal\"}\n",
    "b_friends = {\"Sakib\", \"Jamal\", \"Rafiq\", \"Nadim\"}\n",
    "\n",
    "Mutual = a_friends & b_friends\n",
    "Unique_a = (a_friends - b_friends)\n",
    "Unique_b = b_friends - a_friends\n",
    "unique_friend = a_friends | b_friends"
   ]
  },
  {
   "cell_type": "code",
   "execution_count": 11,
   "id": "50ce0284-fc0e-45bc-98ee-05d77b5a1c8f",
   "metadata": {},
   "outputs": [
    {
     "name": "stdout",
     "output_type": "stream",
     "text": [
      "{'Jamal', 'Sakib'}\n",
      "{'Karim', 'Rahim'}\n",
      "{'Nadim', 'Rafiq'}\n",
      "6\n"
     ]
    }
   ],
   "source": [
    "print(Mutual)\n",
    "print(Unique_a)\n",
    "print(Unique_b)\n",
    "print(f\"{len(unique_friend)\")"
   ]
  },
  {
   "cell_type": "code",
   "execution_count": null,
   "id": "ac820e82-184c-454d-8329-75bb7d576455",
   "metadata": {},
   "outputs": [],
   "source": []
  },
  {
   "cell_type": "code",
   "execution_count": null,
   "id": "b548479a-166a-4a77-9dbd-a0ebb1c3bc86",
   "metadata": {},
   "outputs": [],
   "source": []
  }
 ],
 "metadata": {
  "kernelspec": {
   "display_name": "Python 3 (ipykernel)",
   "language": "python",
   "name": "python3"
  },
  "language_info": {
   "codemirror_mode": {
    "name": "ipython",
    "version": 3
   },
   "file_extension": ".py",
   "mimetype": "text/x-python",
   "name": "python",
   "nbconvert_exporter": "python",
   "pygments_lexer": "ipython3",
   "version": "3.13.5"
  },
  "widgets": {
   "application/vnd.jupyter.widget-state+json": {
    "state": {},
    "version_major": 2,
    "version_minor": 0
   }
  }
 },
 "nbformat": 4,
 "nbformat_minor": 5
}
