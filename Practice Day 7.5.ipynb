{
 "cells": [
  {
   "cell_type": "markdown",
   "id": "6da4e63e-74fa-4eb5-bbbf-c7fe1162d37f",
   "metadata": {},
   "source": [
    "Problem 1: Common Friends (Set Operations)\n",
    "Problem:\n",
    " Given two sets of friends from two people, find the mutual friends, unique friends of each, and the total number of unique friends.\n",
    "Example Input:\n",
    "a_friends = {\"Rahim\", \"Karim\", \"Sakib\", \"Jamal\"}\n",
    "b_friends = {\"Sakib\", \"Jamal\", \"Rafiq\", \"Nadim\"}\n",
    "\n",
    "Expected Output:\n",
    "Mutual friends: {'Sakib', 'Jamal'}\n",
    "Unique to A: {'Rahim', 'Karim'}\n",
    "Unique to B: {'Rafiq', 'Nadim'}\n",
    "Total unique friends: 6\n"
   ]
  },
  {
   "cell_type": "code",
   "execution_count": 9,
   "id": "ef30122d-1e56-46e0-bf36-ceb57a8b24a3",
   "metadata": {},
   "outputs": [],
   "source": [
    "a_friends = {\"Rahim\", \"Karim\", \"Sakib\", \"Jamal\"}\n",
    "b_friends = {\"Sakib\", \"Jamal\", \"Rafiq\", \"Nadim\"}\n",
    "\n",
    "Mutual = a_friends & b_friends\n",
    "Unique_a = (a_friends - b_friends)\n",
    "Unique_b = b_friends - a_friends\n",
    "unique_friend = a_friends | b_friends"
   ]
  },
  {
   "cell_type": "code",
   "execution_count": 13,
   "id": "50ce0284-fc0e-45bc-98ee-05d77b5a1c8f",
   "metadata": {},
   "outputs": [
    {
     "name": "stdout",
     "output_type": "stream",
     "text": [
      "{'Jamal', 'Sakib'}\n",
      "{'Karim', 'Rahim'}\n",
      "{'Nadim', 'Rafiq'}\n",
      " Total unique friends:6\n"
     ]
    }
   ],
   "source": [
    "print(Mutual)\n",
    "print(Unique_a)\n",
    "print(Unique_b)\n",
    "print(f\" Total unique friends:{len(unique_friend)}\")"
   ]
  },
  {
   "cell_type": "markdown",
   "id": "36338f71-7c94-441b-b57b-3dcba4a42c0a",
   "metadata": {},
   "source": [
    "Problem 2: Sort Students by Marks (Tuple + Dictionary)\n",
    "Problem:\n",
    " You are given a list of tuples — each containing a student’s name and mark.\n",
    " Sort them in descending order of marks and print the top 3 scorers.\n",
    "Example Input:\n",
    "students = [(\"Rafi\", 89), (\"Sumi\", 95), (\"Hasan\", 90), (\"Nila\", 75), (\"Anik\", 98)]\n",
    "\n",
    "Expected Output:\n",
    "Top 3 students:\n",
    "Anik - 98\n",
    "Sumi - 95\n",
    "Hasan - 90\n"
   ]
  }
 ],
 "metadata": {
  "kernelspec": {
   "display_name": "Python 3 (ipykernel)",
   "language": "python",
   "name": "python3"
  },
  "language_info": {
   "codemirror_mode": {
    "name": "ipython",
    "version": 3
   },
   "file_extension": ".py",
   "mimetype": "text/x-python",
   "name": "python",
   "nbconvert_exporter": "python",
   "pygments_lexer": "ipython3",
   "version": "3.13.5"
  },
  "widgets": {
   "application/vnd.jupyter.widget-state+json": {
    "state": {},
    "version_major": 2,
    "version_minor": 0
   }
  }
 },
 "nbformat": 4,
 "nbformat_minor": 5
}
