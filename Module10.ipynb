{
 "cells": [
  {
   "cell_type": "code",
   "execution_count": 5,
   "id": "4beede28-f013-4d36-895f-2185a9032c3e",
   "metadata": {},
   "outputs": [],
   "source": [
    "from icecream import ic"
   ]
  },
  {
   "cell_type": "code",
   "execution_count": 2,
   "id": "ea356f13-f2a5-43ad-9cb4-1aedc1f231b7",
   "metadata": {},
   "outputs": [
    {
     "name": "stdout",
     "output_type": "stream",
     "text": [
      "[1, 2, 3, 1, 2, 3, 1, 2, 3, 1, 2, 3, 1, 2, 3]\n",
      "[5, 10, 15]\n"
     ]
    }
   ],
   "source": [
    "arr = [1,2,3]\n",
    "\n",
    "print( arr * 5 )\n",
    "\n",
    "arr = [ x*5 for x in arr] \n",
    "\n",
    "print(arr)"
   ]
  },
  {
   "cell_type": "code",
   "execution_count": 49,
   "id": "696ed1fa-afcf-4222-9ba5-b4b321e38dfa",
   "metadata": {},
   "outputs": [
    {
     "name": "stdout",
     "output_type": "stream",
     "text": [
      "[1 2 3 4 5]\n"
     ]
    }
   ],
   "source": [
    "import numpy as np \n",
    "\n",
    "arr1 = np.array([1,2,3,4,5] )\n",
    "\n",
    "\n",
    "\n",
    "print(arr1)"
   ]
  },
  {
   "cell_type": "code",
   "execution_count": 11,
   "id": "1b81a607-ba67-409a-ac60-5bc5f595d722",
   "metadata": {},
   "outputs": [
    {
     "name": "stderr",
     "output_type": "stream",
     "text": [
      "ic| arr: array([[0.37481001, 0.88834416, 0.22954971],\n",
      "                [0.74081299, 0.79133535, 0.76163862]])\n",
      "ic| type(arr): <class 'numpy.ndarray'>\n",
      "ic| arr.size: 6\n"
     ]
    },
    {
     "name": "stdout",
     "output_type": "stream",
     "text": [
      "float64\n",
      "(2, 3)\n",
      "2\n"
     ]
    },
    {
     "data": {
      "text/plain": [
       "6"
      ]
     },
     "execution_count": 11,
     "metadata": {},
     "output_type": "execute_result"
    }
   ],
   "source": [
    "from icecream import ic\n",
    "\n",
    "\n",
    "arr = np.random.rand(2,3)\n",
    "ic(arr) \n",
    "ic(type(arr)) \n",
    "print(arr.dtype) \n",
    "print(arr.shape) \n",
    "print(arr.ndim)\n",
    "ic(arr.size)"
   ]
  },
  {
   "cell_type": "code",
   "execution_count": 13,
   "id": "d76fcd7c-dfd8-434a-96dd-1e376c36ff17",
   "metadata": {},
   "outputs": [
    {
     "name": "stdout",
     "output_type": "stream",
     "text": [
      "[[8 9 6]\n",
      " [1 3 1]]\n",
      "<class 'numpy.ndarray'>\n",
      "int32\n",
      "(2, 3)\n",
      "2\n",
      "6\n"
     ]
    }
   ],
   "source": [
    "# np.random.randint(start,end, shape) \n",
    "\n",
    "arr = np.random.randint(1,10 , (2,3))  \n",
    "\n",
    "print(arr) \n",
    "print(type(arr)) \n",
    "print(arr.dtype) \n",
    "print(arr.shape) \n",
    "print(arr.ndim)\n",
    "print(arr.size)"
   ]
  },
  {
   "cell_type": "code",
   "execution_count": 14,
   "id": "66655b54-47a9-48b3-adb6-9ef719938131",
   "metadata": {},
   "outputs": [
    {
     "name": "stdout",
     "output_type": "stream",
     "text": [
      "[[[57.1285726  92.96132427 93.53477516 76.84271418]\n",
      "  [61.28312236 57.42341339 72.14995632 58.2281771 ]\n",
      "  [63.31486369 60.50911837 63.26130327 91.89122536]]\n",
      "\n",
      " [[76.0423463  98.67250076 68.96949068 80.53231296]\n",
      "  [81.53936896 83.32125763 71.78509016 63.30446868]\n",
      "  [66.21789594 92.18654434 81.74830513 51.8854476 ]]\n",
      "\n",
      " [[69.72009743 54.17586382 53.92052012 60.01154433]\n",
      "  [61.62568424 97.98483576 60.53137024 74.21430021]\n",
      "  [77.92948337 85.65880118 74.69612694 84.75903459]]]\n",
      "<class 'numpy.ndarray'>\n",
      "float64\n",
      "(3, 3, 4)\n",
      "3\n",
      "36\n"
     ]
    }
   ],
   "source": [
    "# np.random.uniform(start,end, shape) \n",
    "\n",
    "arr = np.random.uniform(50,100, (3,3,4))   \n",
    "\n",
    "print(arr) \n",
    "print(type(arr)) \n",
    "print(arr.dtype) \n",
    "print(arr.shape) \n",
    "print(arr.ndim)\n",
    "print(arr.size)"
   ]
  },
  {
   "cell_type": "markdown",
   "id": "c4cf1a9f-d28c-4552-8875-e3c94b411c20",
   "metadata": {},
   "source": [
    "## array creation with range functions"
   ]
  },
  {
   "cell_type": "code",
   "execution_count": 22,
   "id": "03bd468d-5991-4f05-a852-7aa772dd018c",
   "metadata": {},
   "outputs": [
    {
     "name": "stdout",
     "output_type": "stream",
     "text": [
      "[[1 2 3]\n",
      " [4 5 6]\n",
      " [7 8 9]]\n",
      "<class 'numpy.ndarray'>\n",
      "int64\n",
      "(3, 3)\n",
      "2\n",
      "9\n"
     ]
    }
   ],
   "source": [
    "# np.arange(first , end , step ) -> similar to range function \n",
    "\n",
    "arr = np.arange(1 , 10 ,1 ).reshape(3,3) \n",
    " \n",
    "\n",
    "print(arr) \n",
    "print(type(arr)) \n",
    "print(arr.dtype) \n",
    "print(arr.shape) \n",
    "print(arr.ndim)\n",
    "print(arr.size)"
   ]
  },
  {
   "cell_type": "code",
   "execution_count": 23,
   "id": "6f20e6ac-ece1-44a2-9c84-0aaf0509ed89",
   "metadata": {},
   "outputs": [
    {
     "name": "stdout",
     "output_type": "stream",
     "text": [
      "[0.  0.8 1.6 2.4 3.2 4. ]\n",
      "<class 'numpy.ndarray'>\n",
      "float64\n",
      "(6,)\n",
      "1\n",
      "6\n"
     ]
    }
   ],
   "source": [
    "# np.linspace(start , end(included) , koita) \n",
    "\n",
    "arr = np.linspace(0, 4 ,6)\n",
    "\n",
    "\n",
    "print(arr) \n",
    "print(type(arr)) \n",
    "print(arr.dtype) \n",
    "print(arr.shape) \n",
    "print(arr.ndim)\n",
    "print(arr.size)"
   ]
  },
  {
   "cell_type": "code",
   "execution_count": 29,
   "id": "edb0d23c-66b4-4a92-840f-36ff86de768c",
   "metadata": {},
   "outputs": [
    {
     "name": "stdout",
     "output_type": "stream",
     "text": [
      "[ 1.          1.74110113  3.03143313  5.27803164  9.18958684 16.        ]\n"
     ]
    }
   ],
   "source": [
    "# np.logspace(start , end(included) , koita ) \n",
    "\n",
    "arr = np.logspace(0 , 4 ,6,base=2) \n",
    "\n",
    "print(arr)"
   ]
  },
  {
   "cell_type": "markdown",
   "id": "813b22aa-5174-4c95-83a1-76e0cad4bb53",
   "metadata": {},
   "source": [
    "## creating matrix for Linear algebra"
   ]
  },
  {
   "cell_type": "code",
   "execution_count": 30,
   "id": "b82e7e51-1356-456f-b89e-210aacbec041",
   "metadata": {},
   "outputs": [
    {
     "name": "stdout",
     "output_type": "stream",
     "text": [
      "[[1 0 0 0]\n",
      " [0 2 0 0]\n",
      " [0 0 3 0]\n",
      " [0 0 0 4]]\n",
      "(4, 4)\n"
     ]
    }
   ],
   "source": [
    "diagonal_matrix = np.diag([1,2,3,4])\n",
    "\n",
    "print(diagonal_matrix)\n",
    "print(diagonal_matrix.shape)"
   ]
  },
  {
   "cell_type": "code",
   "execution_count": 32,
   "id": "c95012c1-6dee-4234-95a2-077e12891096",
   "metadata": {},
   "outputs": [
    {
     "name": "stdout",
     "output_type": "stream",
     "text": [
      "[[1. 0. 0.]\n",
      " [0. 1. 0.]\n",
      " [0. 0. 1.]]\n",
      "(3, 3)\n"
     ]
    }
   ],
   "source": [
    "# identity matrix \n",
    "\n",
    "identity_mat = np.eye(3)\n",
    "print(identity_mat)\n",
    "print(identity_mat.shape)"
   ]
  },
  {
   "cell_type": "code",
   "execution_count": 34,
   "id": "e85f3935-74cd-4107-9f73-ac2aafe35ac8",
   "metadata": {},
   "outputs": [
    {
     "name": "stdout",
     "output_type": "stream",
     "text": [
      "[[0. 0. 0. 0.]\n",
      " [1. 0. 0. 0.]\n",
      " [0. 1. 0. 0.]]\n"
     ]
    }
   ],
   "source": [
    "\n",
    "# np.eye(row , column,k) \n",
    "\n",
    "mat = np.eye(3,4,-1)\n",
    "print(mat)"
   ]
  },
  {
   "cell_type": "code",
   "execution_count": 36,
   "id": "ae0bee18-a087-454d-b6ce-30ca65a10e30",
   "metadata": {},
   "outputs": [
    {
     "name": "stdout",
     "output_type": "stream",
     "text": [
      "[[0. 1. 0. 0.]\n",
      " [0. 0. 1. 0.]\n",
      " [0. 0. 0. 1.]]\n"
     ]
    }
   ],
   "source": [
    "mat = np.eye(3,4,1)\n",
    "print(mat)"
   ]
  },
  {
   "cell_type": "markdown",
   "id": "cb58f5a2-8954-4227-a266-740703d77a0e",
   "metadata": {},
   "source": [
    "## indexing and slicing"
   ]
  },
  {
   "cell_type": "code",
   "execution_count": 38,
   "id": "418cacff-297f-49db-9db8-e730a42f57b5",
   "metadata": {},
   "outputs": [],
   "source": [
    "\n",
    "# 2d array \n",
    "arr2 = np.array([ [1,2,3], # row1\n",
    "                  [4,5,6] #row2\n",
    "                ])"
   ]
  },
  {
   "cell_type": "code",
   "execution_count": 41,
   "id": "10076018-3241-48ac-844b-525ea74bad43",
   "metadata": {},
   "outputs": [
    {
     "name": "stdout",
     "output_type": "stream",
     "text": [
      "[1 2 3]\n",
      "[[1 2 3]\n",
      " [4 5 6]]\n"
     ]
    }
   ],
   "source": [
    "#indexing \n",
    "\n",
    "print(arr1)\n",
    "print(arr2)"
   ]
  },
  {
   "cell_type": "code",
   "execution_count": 42,
   "id": "5b5e26af-9346-4132-ac95-ec59da91a9ff",
   "metadata": {},
   "outputs": [
    {
     "name": "stdout",
     "output_type": "stream",
     "text": [
      "3.0314331330207964\n"
     ]
    }
   ],
   "source": [
    "print(arr[2])"
   ]
  },
  {
   "cell_type": "code",
   "execution_count": 50,
   "id": "3d33e505-fe91-4ecc-841f-508bd68ee347",
   "metadata": {},
   "outputs": [
    {
     "name": "stdout",
     "output_type": "stream",
     "text": [
      "[  1   2 100   4   5]\n"
     ]
    }
   ],
   "source": [
    "arr1[2]= 100\n",
    "print(arr1)"
   ]
  },
  {
   "cell_type": "code",
   "execution_count": 46,
   "id": "cf18e2c4-a2ee-467d-9c11-cc12a5c0759e",
   "metadata": {},
   "outputs": [
    {
     "name": "stdout",
     "output_type": "stream",
     "text": [
      "2\n"
     ]
    }
   ],
   "source": [
    "print(arr2[0][1])"
   ]
  },
  {
   "cell_type": "code",
   "execution_count": 51,
   "id": "700b69b7-4ac4-4822-9f58-d04b5e643257",
   "metadata": {},
   "outputs": [
    {
     "name": "stdout",
     "output_type": "stream",
     "text": [
      "[  2 100   4]\n"
     ]
    }
   ],
   "source": [
    "arr1_mod = arr1[1:4].copy()\n",
    "print(arr1_mod)"
   ]
  },
  {
   "cell_type": "code",
   "execution_count": 53,
   "id": "d6d189af-bb95-4347-92ec-72a16e04e725",
   "metadata": {},
   "outputs": [
    {
     "name": "stdout",
     "output_type": "stream",
     "text": [
      "[[1 2 3]\n",
      " [4 5 6]]\n"
     ]
    }
   ],
   "source": [
    "#2d slicing \n",
    "# arr[ row_start : row_end : step , column_start : column_end : step ]\n",
    "\n",
    "print(arr2) "
   ]
  },
  {
   "cell_type": "code",
   "execution_count": 54,
   "id": "c1f5e0b8-af3b-4e52-be62-f824ed68b20f",
   "metadata": {},
   "outputs": [
    {
     "name": "stdout",
     "output_type": "stream",
     "text": [
      "[[1 2 3]]\n"
     ]
    }
   ],
   "source": [
    "row0 = arr2[0:1,]\n",
    "print(row0)"
   ]
  },
  {
   "cell_type": "code",
   "execution_count": 55,
   "id": "61daac89-f231-42d9-9aec-41456ad4368d",
   "metadata": {},
   "outputs": [
    {
     "name": "stdout",
     "output_type": "stream",
     "text": [
      "[[4 5 6]]\n"
     ]
    }
   ],
   "source": [
    "row1 = arr2[1: ,]\n",
    "print(row1)"
   ]
  },
  {
   "cell_type": "code",
   "execution_count": 60,
   "id": "f87ce12b-b7af-40ee-a39c-b6099f55f65d",
   "metadata": {},
   "outputs": [
    {
     "name": "stdout",
     "output_type": "stream",
     "text": [
      "[[1]\n",
      " [4]]\n"
     ]
    }
   ],
   "source": [
    "col0 = arr2[ ::,0:1]\n",
    "print(col0)"
   ]
  },
  {
   "cell_type": "code",
   "execution_count": 62,
   "id": "d52262bb-a484-42cd-aa7d-9dae454071d7",
   "metadata": {},
   "outputs": [
    {
     "name": "stdout",
     "output_type": "stream",
     "text": [
      "[[2]\n",
      " [5]]\n"
     ]
    }
   ],
   "source": [
    "col2 = arr2[ ::,1:2]\n",
    "print(col2)"
   ]
  },
  {
   "cell_type": "code",
   "execution_count": 63,
   "id": "91f68650-50c0-4c90-90d6-0b3d5993260c",
   "metadata": {},
   "outputs": [
    {
     "name": "stdout",
     "output_type": "stream",
     "text": [
      "[[1 2]\n",
      " [4 5]]\n"
     ]
    }
   ],
   "source": [
    "#getting a portion \n",
    "\n",
    "\n",
    "portion = arr2[:: , 0:2] \n",
    "print(portion)"
   ]
  },
  {
   "cell_type": "markdown",
   "id": "3da2b28c-1e2b-4aa3-901b-e87d2e3414c4",
   "metadata": {},
   "source": [
    "## Advanced Indexing"
   ]
  },
  {
   "cell_type": "code",
   "execution_count": 66,
   "id": "f09caf88-1ad7-4bb3-8bd5-edf7cd4d2484",
   "metadata": {},
   "outputs": [
    {
     "name": "stdout",
     "output_type": "stream",
     "text": [
      "[[1 2 3]\n",
      " [4 5 6]]\n",
      "[2 6]\n"
     ]
    }
   ],
   "source": [
    "print(arr2)\n",
    "print(arr2[[0,1] , [1,2]])\n"
   ]
  },
  {
   "cell_type": "code",
   "execution_count": 67,
   "id": "556bb113-903b-4ded-80ca-bfb1241fffa4",
   "metadata": {},
   "outputs": [
    {
     "name": "stdout",
     "output_type": "stream",
     "text": [
      "[[1 2 3]\n",
      " [4 5 6]]\n",
      "[2 6]\n"
     ]
    },
    {
     "ename": "IndexError",
     "evalue": "boolean index did not match indexed array along axis 0; size of axis is 2 but size of corresponding boolean axis is 6",
     "output_type": "error",
     "traceback": [
      "\u001b[1;31m---------------------------------------------------------------------------\u001b[0m",
      "\u001b[1;31mIndexError\u001b[0m                                Traceback (most recent call last)",
      "Cell \u001b[1;32mIn[67], line 5\u001b[0m\n\u001b[0;32m      2\u001b[0m \u001b[38;5;28mprint\u001b[39m(arr2[[\u001b[38;5;241m0\u001b[39m,\u001b[38;5;241m1\u001b[39m] , [\u001b[38;5;241m1\u001b[39m,\u001b[38;5;241m2\u001b[39m]])\n\u001b[0;32m      4\u001b[0m \u001b[38;5;66;03m# boolean kono kichu diye\u001b[39;00m\n\u001b[1;32m----> 5\u001b[0m \u001b[38;5;28mprint\u001b[39m(\u001b[43marr2\u001b[49m\u001b[43m[\u001b[49m\u001b[43marr\u001b[49m\u001b[38;5;241;43m>\u001b[39;49m\u001b[38;5;241;43m1\u001b[39;49m\u001b[43m]\u001b[49m)\n\u001b[0;32m      6\u001b[0m arr2[arr2\u001b[38;5;241m>\u001b[39m\u001b[38;5;241m2\u001b[39m] \u001b[38;5;241m=\u001b[39m \u001b[38;5;241m0\u001b[39m \n\u001b[0;32m      8\u001b[0m \u001b[38;5;28mprint\u001b[39m(arr2)\n",
      "\u001b[1;31mIndexError\u001b[0m: boolean index did not match indexed array along axis 0; size of axis is 2 but size of corresponding boolean axis is 6"
     ]
    }
   ],
   "source": [
    "print(arr2)\n",
    "print(arr2[[0,1] , [1,2]])\n",
    "\n",
    "# boolean kono kichu diye\n",
    "print(arr2[arr>1])\n",
    "arr2[arr2>2] = 0 \n",
    "\n",
    "print(arr2)"
   ]
  },
  {
   "cell_type": "code",
   "execution_count": null,
   "id": "39ccc38a-5922-4e9a-8360-7d968d00f7a1",
   "metadata": {},
   "outputs": [],
   "source": []
  }
 ],
 "metadata": {
  "kernelspec": {
   "display_name": "Python 3 (ipykernel)",
   "language": "python",
   "name": "python3"
  },
  "language_info": {
   "codemirror_mode": {
    "name": "ipython",
    "version": 3
   },
   "file_extension": ".py",
   "mimetype": "text/x-python",
   "name": "python",
   "nbconvert_exporter": "python",
   "pygments_lexer": "ipython3",
   "version": "3.13.5"
  },
  "widgets": {
   "application/vnd.jupyter.widget-state+json": {
    "state": {},
    "version_major": 2,
    "version_minor": 0
   }
  }
 },
 "nbformat": 4,
 "nbformat_minor": 5
}
