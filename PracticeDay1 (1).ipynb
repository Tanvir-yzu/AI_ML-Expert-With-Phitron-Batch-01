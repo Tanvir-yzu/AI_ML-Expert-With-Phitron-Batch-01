{
  "cells": [
    {
      "cell_type": "markdown",
      "metadata": {
        "id": "n_bJs3jA7wsJ"
      },
      "source": [
        "## Smart Light Pilot"
      ]
    },
    {
      "cell_type": "code",
      "execution_count": 1,
      "metadata": {
        "colab": {
          "base_uri": "https://localhost:8080/"
        },
        "id": "Bus7D14b7Yil",
        "outputId": "ad785d74-5b23-471e-cac9-0a0e47cbab0f"
      },
      "outputs": [
        {
          "name": "stdout",
          "output_type": "stream",
          "text": [
            "OFF\n"
          ]
        }
      ],
      "source": [
        "input_v = input().split()\n",
        "brightness = float(input_v[0])\n",
        "threshold = float(input_v[1])\n",
        "\n",
        "if brightness >= threshold :\n",
        "    print(\"ON\")\n",
        "else :\n",
        "    print(\"OFF\")"
      ]
    },
    {
      "cell_type": "code",
      "execution_count": 6,
      "metadata": {
        "colab": {
          "base_uri": "https://localhost:8080/"
        },
        "id": "jjdfJOWh8DE5",
        "outputId": "0c93f8ac-e60a-4d86-88ce-a2ff8aebdb5d"
      },
      "outputs": [
        {
          "name": "stdout",
          "output_type": "stream",
          "text": [
            "['40', '50']\n",
            "40.0\n",
            "50.0\n"
          ]
        }
      ],
      "source": [
        "print(input_v)\n",
        "print(brightness)\n",
        "print(threshold)"
      ]
    },
    {
      "cell_type": "markdown",
      "metadata": {
        "id": "u-JqF-Dd8-uM"
      },
      "source": [
        "## Sensor Calibrator — Min-Max Scaling\n"
      ]
    },
    {
      "cell_type": "code",
      "execution_count": 14,
      "metadata": {
        "colab": {
          "base_uri": "https://localhost:8080/"
        },
        "id": "Q-pzx16D9FZJ",
        "outputId": "d04debe1-953d-4473-b378-71ea3817876f"
      },
      "outputs": [
        {
          "name": "stdout",
          "output_type": "stream",
          "text": [
            "2.5 0 10\n",
            "0.25\n"
          ]
        }
      ],
      "source": [
        "input_v = input().split()\n",
        "x= float(input_v[0])\n",
        "min_v = float(input_v[1])\n",
        "max_v = float(input_v[2])\n",
        "norm = (x - min_v) / (max_v - min_v)\n",
        "print(\"{0:.2f}\".format(norm))\n"
      ]
    },
    {
      "cell_type": "code",
      "execution_count": 15,
      "metadata": {
        "colab": {
          "base_uri": "https://localhost:8080/"
        },
        "id": "Fbi_dIrV9dEt",
        "outputId": "7fac5979-034c-4085-823b-984f1d33c578"
      },
      "outputs": [
        {
          "name": "stdout",
          "output_type": "stream",
          "text": [
            "['2.5', '0', '10']\n",
            "2.5\n",
            "0.0\n",
            "10.0\n",
            "0.25\n"
          ]
        }
      ],
      "source": [
        "print(input_v)\n",
        "print(x)\n",
        "print(min_v)\n",
        "print(max_v)\n",
        "print(norm)"
      ]
    },
    {
      "cell_type": "markdown",
      "metadata": {
        "id": "T91lXDTV-KVC"
      },
      "source": [
        "## Mini Loss Tracker"
      ]
    },
    {
      "cell_type": "code",
      "execution_count": 19,
      "metadata": {
        "colab": {
          "base_uri": "https://localhost:8080/"
        },
        "id": "ivj06sRp-McY",
        "outputId": "fb29faae-5ba5-4611-9aeb-58d15e2c199d"
      },
      "outputs": [
        {
          "name": "stdout",
          "output_type": "stream",
          "text": [
            "3\n",
            "0.35\n",
            "0.20\n",
            "0.30\n",
            "0.40\n"
          ]
        }
      ],
      "source": [
        "n = int(input())\n",
        "target = float(input())\n",
        "total = 0.0\n",
        "count = 0\n",
        "\n",
        "while count < n :\n",
        "  loss = float(input())\n",
        "  total += loss\n",
        "  count += 1\n",
        "avg = total / n\n"
      ]
    },
    {
      "cell_type": "code",
      "execution_count": 21,
      "metadata": {
        "colab": {
          "base_uri": "https://localhost:8080/"
        },
        "id": "PtpKC0GoACe9",
        "outputId": "b8750297-0a52-41af-c78b-5a8157ec42ba"
      },
      "outputs": [
        {
          "name": "stdout",
          "output_type": "stream",
          "text": [
            "PASS\n"
          ]
        }
      ],
      "source": [
        "if avg <= target :\n",
        "  print(\"PASS\")\n",
        "else :\n",
        "  print(\"RETRY\")"
      ]
    },
    {
      "cell_type": "code",
      "execution_count": 22,
      "metadata": {
        "colab": {
          "base_uri": "https://localhost:8080/"
        },
        "id": "2uETgc4r-60b",
        "outputId": "89001aa7-f560-4ed6-c23e-8f06ae86c6e7"
      },
      "outputs": [
        {
          "name": "stdout",
          "output_type": "stream",
          "text": [
            "0.3\n"
          ]
        }
      ],
      "source": [
        "print(avg)"
      ]
    },
    {
      "cell_type": "markdown",
      "metadata": {
        "id": "4fwQ14aDAcfr"
      },
      "source": [
        "## Majority Vote Gate"
      ]
    },
    {
      "cell_type": "code",
      "execution_count": 25,
      "metadata": {
        "colab": {
          "base_uri": "https://localhost:8080/"
        },
        "id": "4krrFm1IAzLh",
        "outputId": "80ebbd81-883a-4063-a8bb-2496782b75e0"
      },
      "outputs": [
        {
          "name": "stdout",
          "output_type": "stream",
          "text": [
            "1\n",
            "YES\n",
            "ACCEPT\n"
          ]
        }
      ],
      "source": [
        "n = int(input())\n",
        "yes = 0\n",
        "no = 0\n",
        "count = 0\n",
        "\n",
        "while count < n :\n",
        "  vote = input()\n",
        "  if vote == \"YES\" :\n",
        "    yes += 1\n",
        "  else :\n",
        "    no += 1\n",
        "  count += 1\n",
        "\n",
        "if yes > no :\n",
        "  print(\"ACCEPT\")\n",
        "else :\n",
        "  print(\"REJECT\")"
      ]
    },
    {
      "cell_type": "markdown",
      "metadata": {
        "id": "j2VQ2QgMBrxk"
      },
      "source": [
        "## AI Mood Detector"
      ]
    },
    {
      "cell_type": "code",
      "execution_count": 34,
      "metadata": {
        "colab": {
          "base_uri": "https://localhost:8080/"
        },
        "id": "7WrSGjnuBt-P",
        "outputId": "0043c336-7991-4f4b-d8b5-f4bc71cf76dd"
      },
      "outputs": [
        {
          "name": "stdout",
          "output_type": "stream",
          "text": [
            "just walking around\n"
          ]
        }
      ],
      "source": [
        "n = input().split()"
      ]
    },
    {
      "cell_type": "code",
      "execution_count": 35,
      "metadata": {
        "id": "AHJvDI9BCZzO"
      },
      "outputs": [],
      "source": [
        "happy_k = {'happy','joy','smile'}\n",
        "sad_k = {'sad','cry','angry'}"
      ]
    },
    {
      "cell_type": "code",
      "execution_count": 36,
      "metadata": {
        "id": "-fSbFCtdCrhf"
      },
      "outputs": [],
      "source": [
        "happy_f = False\n",
        "sad_f = False"
      ]
    },
    {
      "cell_type": "code",
      "execution_count": 37,
      "metadata": {
        "id": "DyhzcIdKC4Tw"
      },
      "outputs": [],
      "source": [
        "for word in happy_k :\n",
        "  if word in n :\n",
        "    happy_f = True\n",
        "    break"
      ]
    },
    {
      "cell_type": "code",
      "execution_count": 38,
      "metadata": {
        "id": "CHsHLhdbDbsB"
      },
      "outputs": [],
      "source": [
        "for word in sad_k :\n",
        "  if word in n :\n",
        "    sad_f = True\n",
        "    break"
      ]
    },
    {
      "cell_type": "code",
      "execution_count": 39,
      "metadata": {
        "colab": {
          "base_uri": "https://localhost:8080/"
        },
        "id": "jg1IT9NiDG8B",
        "outputId": "2e9780fb-7b67-47d2-de12-5610c7561627"
      },
      "outputs": [
        {
          "name": "stdout",
          "output_type": "stream",
          "text": [
            "NEUTRAL Mood\n"
          ]
        }
      ],
      "source": [
        "if happy_f :\n",
        "  print(\"HAPPY Mood\")\n",
        "elif sad_f :\n",
        "  print(\"SAD Mood\")\n",
        "else :\n",
        "  print(\"NEUTRAL Mood\")\n"
      ]
    },
    {
      "cell_type": "code",
      "execution_count": 30,
      "metadata": {
        "colab": {
          "base_uri": "https://localhost:8080/"
        },
        "id": "iqYAQjiDCSlh",
        "outputId": "74eb6bd9-235d-42b2-fb42-7fdf232ecd08"
      },
      "outputs": [
        {
          "name": "stdout",
          "output_type": "stream",
          "text": [
            "['happy', 'birthday']\n"
          ]
        }
      ],
      "source": [
        "print(n)"
      ]
    },
    {
      "cell_type": "markdown",
      "metadata": {
        "id": "0V8rNCLgEBo4"
      },
      "source": [
        "## AI Brightness Analyzer"
      ]
    },
    {
      "cell_type": "code",
      "execution_count": 45,
      "metadata": {
        "colab": {
          "base_uri": "https://localhost:8080/"
        },
        "id": "yvNmgUEdEERu",
        "outputId": "0585ce92-ffbc-4114-9d07-6a25d8234c37"
      },
      "outputs": [
        {
          "name": "stdout",
          "output_type": "stream",
          "text": [
            "200 230 255 180\n"
          ]
        }
      ],
      "source": [
        "n = input().split()\n",
        "pixels = []\n",
        "for num in n :\n",
        "  pixels.append(int(num))"
      ]
    },
    {
      "cell_type": "code",
      "execution_count": 46,
      "metadata": {
        "id": "oxeq6cLqEhFB"
      },
      "outputs": [],
      "source": [
        "avg = sum(pixels) / len(pixels)"
      ]
    },
    {
      "cell_type": "code",
      "execution_count": 47,
      "metadata": {
        "colab": {
          "base_uri": "https://localhost:8080/"
        },
        "id": "Ipm1DL7iFZwz",
        "outputId": "0e45a664-7e80-47a6-8f8d-0524587287e7"
      },
      "outputs": [
        {
          "name": "stdout",
          "output_type": "stream",
          "text": [
            "Bright Image\n"
          ]
        }
      ],
      "source": [
        "if avg < 85 :\n",
        "  print(\"Dark Image\")\n",
        "elif avg <= 170 :\n",
        "  print(\"Normal Image\")\n",
        "else :\n",
        "  print(\"Bright Image\")"
      ]
    },
    {
      "cell_type": "code",
      "execution_count": 48,
      "metadata": {
        "colab": {
          "base_uri": "https://localhost:8080/"
        },
        "id": "w2D1Km0DESKb",
        "outputId": "4bb6faa4-6cbf-49b4-99a0-b0fe18d36aa9"
      },
      "outputs": [
        {
          "name": "stdout",
          "output_type": "stream",
          "text": [
            "[200, 230, 255, 180]\n",
            "216.25\n"
          ]
        }
      ],
      "source": [
        "print(pixels)\n",
        "print(avg)"
      ]
    },
    {
      "cell_type": "markdown",
      "metadata": {
        "id": "aqFnPi6HGGS6"
      },
      "source": [
        "## AI Bias Detector"
      ]
    },
    {
      "cell_type": "code",
      "execution_count": 49,
      "metadata": {
        "colab": {
          "base_uri": "https://localhost:8080/"
        },
        "id": "dIz_5N04GN1H",
        "outputId": "51959e31-a38d-482c-bac6-7df88d270cd3"
      },
      "outputs": [
        {
          "name": "stdout",
          "output_type": "stream",
          "text": [
            "A  A  A B B A A\n"
          ]
        }
      ],
      "source": [
        "n = input().split()\n",
        "count_a = n.count('A')\n",
        "count_b = n.count('B')"
      ]
    },
    {
      "cell_type": "code",
      "execution_count": 52,
      "metadata": {
        "id": "79W7v0RfGhEK"
      },
      "outputs": [],
      "source": [
        "total = len(n)"
      ]
    },
    {
      "cell_type": "code",
      "execution_count": 54,
      "metadata": {
        "id": "y0ab7KOkGwP_"
      },
      "outputs": [],
      "source": [
        "percent_a = (count_a / total) * 100\n",
        "percent_b = (count_b / total) * 100"
      ]
    },
    {
      "cell_type": "code",
      "execution_count": 56,
      "metadata": {
        "colab": {
          "base_uri": "https://localhost:8080/"
        },
        "id": "BFM45pHfG6dJ",
        "outputId": "b18d9782-b8c5-442e-b735-cb0ae60687de"
      },
      "outputs": [
        {
          "name": "stdout",
          "output_type": "stream",
          "text": [
            "Biased Model\n"
          ]
        }
      ],
      "source": [
        "if percent_a > 70 or percent_b > 70 :\n",
        "  print(\"Biased Model\")\n",
        "else :\n",
        "  print(\"Fair Model\")"
      ]
    },
    {
      "cell_type": "code",
      "execution_count": null,
      "metadata": {
        "id": "LzI0w85gG6NX"
      },
      "outputs": [],
      "source": []
    },
    {
      "cell_type": "code",
      "execution_count": 55,
      "metadata": {
        "colab": {
          "base_uri": "https://localhost:8080/"
        },
        "id": "lPW-puflGUiJ",
        "outputId": "da47595a-773a-46b6-e629-825bb1343125"
      },
      "outputs": [
        {
          "name": "stdout",
          "output_type": "stream",
          "text": [
            "5\n",
            "2\n",
            "7\n",
            "71.42857142857143\n",
            "28.57142857142857\n"
          ]
        }
      ],
      "source": [
        "print(count_a)\n",
        "print(count_b)\n",
        "print(total)\n",
        "print(percent_a)\n",
        "print(percent_b)"
      ]
    },
    {
      "cell_type": "markdown",
      "metadata": {
        "id": "4zXt_LLsHRHu"
      },
      "source": [
        "## AI Keyword Counter"
      ]
    },
    {
      "cell_type": "code",
      "execution_count": 63,
      "metadata": {
        "colab": {
          "base_uri": "https://localhost:8080/"
        },
        "id": "8PfYip8PIHnE",
        "outputId": "6cfd5e01-aa34-47f4-8ce4-258a67e8733f"
      },
      "outputs": [
        {
          "name": "stdout",
          "output_type": "stream",
          "text": [
            "i like reading books\n"
          ]
        }
      ],
      "source": [
        "n = input().split()"
      ]
    },
    {
      "cell_type": "code",
      "execution_count": 64,
      "metadata": {
        "id": "EZyg2fhWIXQj"
      },
      "outputs": [],
      "source": [
        "keyword = {\"ai\", \"data\", \"model\", \"learn\", \"train\", \"neural\"}"
      ]
    },
    {
      "cell_type": "code",
      "execution_count": 70,
      "metadata": {
        "id": "0C-HMcZUIebr"
      },
      "outputs": [],
      "source": [
        "count = sum(1 for w in n if w in keyword)"
      ]
    },
    {
      "cell_type": "code",
      "execution_count": 71,
      "metadata": {
        "colab": {
          "base_uri": "https://localhost:8080/"
        },
        "id": "Zjz20WE3I3HX",
        "outputId": "17f57c9d-7b85-4f48-8cdd-93a11a69e05e"
      },
      "outputs": [
        {
          "name": "stdout",
          "output_type": "stream",
          "text": [
            "Not AI Related\n"
          ]
        }
      ],
      "source": [
        "if count > 2 :\n",
        "  print(\"AI Detected\")\n",
        "else :\n",
        "  print(\"Not AI Related\")"
      ]
    },
    {
      "cell_type": "code",
      "execution_count": 67,
      "metadata": {
        "colab": {
          "base_uri": "https://localhost:8080/"
        },
        "id": "vF4yYiYdITG6",
        "outputId": "3d29ab59-7f78-42d9-fa59-e3c54bcb3b08"
      },
      "outputs": [
        {
          "name": "stdout",
          "output_type": "stream",
          "text": [
            "['i', 'like', 'reading', 'books']\n",
            "0\n"
          ]
        }
      ],
      "source": [
        "print(n)\n",
        "print(count)"
      ]
    }
  ],
  "metadata": {
    "colab": {
      "provenance": []
    },
    "kernelspec": {
      "display_name": "Python 3",
      "name": "python3"
    },
    "language_info": {
      "codemirror_mode": {
        "name": "ipython",
        "version": 3
      },
      "file_extension": ".py",
      "mimetype": "text/x-python",
      "name": "python",
      "nbconvert_exporter": "python",
      "pygments_lexer": "ipython3",
      "version": "3.12.4"
    }
  },
  "nbformat": 4,
  "nbformat_minor": 0
}
