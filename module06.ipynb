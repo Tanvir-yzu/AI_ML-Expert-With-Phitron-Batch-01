{
 "cells": [
  {
   "cell_type": "code",
   "execution_count": 1,
   "id": "6de82b46-410f-4ae2-95aa-dc35de47aa08",
   "metadata": {},
   "outputs": [],
   "source": [
    "def greet():\n",
    "    print(\"hello\")"
   ]
  },
  {
   "cell_type": "code",
   "execution_count": 2,
   "id": "5038dfa6-04c0-4844-8e80-07db33b2dd99",
   "metadata": {},
   "outputs": [
    {
     "name": "stdout",
     "output_type": "stream",
     "text": [
      "hello\n"
     ]
    }
   ],
   "source": [
    "greet()"
   ]
  },
  {
   "cell_type": "code",
   "execution_count": 3,
   "id": "126639f3-6dfc-40f8-a83e-121317db1f3c",
   "metadata": {},
   "outputs": [],
   "source": [
    "def greet(user = \"guest\"):\n",
    "    print(f\"hello {user}\")"
   ]
  },
  {
   "cell_type": "code",
   "execution_count": 7,
   "id": "8742642e-a510-4c62-98cd-268aaf88a1c1",
   "metadata": {},
   "outputs": [],
   "source": [
    "def greet(user: str = \"guest\") -> None:\n",
    "    \"\"\"\n",
    "    Greets a user with a personalized message.\n",
    "    \n",
    "    Args:\n",
    "        user (str, optional): The name of the user to greet. Defaults to \"guest\".\n",
    "        \n",
    "    Returns:\n",
    "        None: This function prints to stdout and doesn't return a value.\n",
    "    \"\"\"\n",
    "    print(f\"Hello {user}\")"
   ]
  },
  {
   "cell_type": "code",
   "execution_count": 8,
   "id": "198c9fcb-1ebe-4fb1-8dd5-6816700d3b34",
   "metadata": {},
   "outputs": [
    {
     "name": "stdout",
     "output_type": "stream",
     "text": [
      "Hello tanvir\n"
     ]
    }
   ],
   "source": [
    "greet(\"tanvir\")"
   ]
  },
  {
   "cell_type": "code",
   "execution_count": 9,
   "id": "a27a01a0-14a6-4461-97ad-6c4ae84df633",
   "metadata": {},
   "outputs": [],
   "source": [
    "def square_addition(*args):\n",
    "    summation =0 \n",
    "    for i in args:\n",
    "        i = i**2 \n",
    "        summation+=i\n",
    "    return summation  "
   ]
  },
  {
   "cell_type": "code",
   "execution_count": 10,
   "id": "0a5a4c95-0493-4db6-b6b5-ab08711788e2",
   "metadata": {},
   "outputs": [
    {
     "name": "stdout",
     "output_type": "stream",
     "text": [
      "5500\n"
     ]
    }
   ],
   "source": [
    "ans = square_addition(10,20,30,40,50)\n",
    "print(ans)"
   ]
  },
  {
   "cell_type": "code",
   "execution_count": 11,
   "id": "9ec6634c-5f93-4c8d-a6a5-6718cb664e22",
   "metadata": {},
   "outputs": [],
   "source": [
    "def student(**kwargs): \n",
    "    for key,val in kwargs.items():\n",
    "        print(f\"{key} : {val}\")"
   ]
  },
  {
   "cell_type": "code",
   "execution_count": 12,
   "id": "a736bc48-675d-46a9-bdaa-261a1534a008",
   "metadata": {},
   "outputs": [
    {
     "name": "stdout",
     "output_type": "stream",
     "text": [
      "name : adil\n",
      "cls : 10\n",
      "roll : 30\n",
      "marks : 30.5\n"
     ]
    }
   ],
   "source": [
    "student(name = \"adil\" , cls =10 , roll=30 , marks = 30.5) "
   ]
  },
  {
   "cell_type": "code",
   "execution_count": 16,
   "id": "872cdce8-7303-48d8-9e46-502c3aa874f1",
   "metadata": {},
   "outputs": [
    {
     "name": "stdout",
     "output_type": "stream",
     "text": [
      "50\n",
      "20\n",
      "40\n",
      "10\n",
      "60\n",
      "30\n",
      "50\n",
      "20\n",
      "40\n",
      "10\n",
      "60\n",
      "30\n"
     ]
    }
   ],
   "source": [
    "s = {10 , 20 , 30 , 40 , 50,60 }\n",
    "\n",
    "s_iter = iter(s) \n",
    "print(next(s_iter))\n",
    "print(next(s_iter))\n",
    "print(next(s_iter))\n",
    "print(next(s_iter))\n",
    "print(next(s_iter))\n",
    "print(next(s_iter))\n",
    "\n",
    "for i in s:\n",
    "    print(i) "
   ]
  },
  {
   "cell_type": "code",
   "execution_count": 19,
   "id": "6d4d5b74-4aad-4d24-913f-7bb0cbb825ce",
   "metadata": {},
   "outputs": [
    {
     "name": "stdout",
     "output_type": "stream",
     "text": [
      "[1, 2, 3, 4, 5]\n",
      "[6, 7, 8, 9, 10]\n"
     ]
    }
   ],
   "source": [
    "lst = [ x for x in range(1,500) ] # dataset\n",
    "\n",
    "def data_loader(chunk_size,lst):\n",
    "    for i in range(0,len(lst),chunk_size):\n",
    "        yield lst[i:i+chunk_size]\n",
    "\n",
    "\n",
    "x = data_loader(5,lst) \n",
    "\n",
    "print(next(x))\n",
    "print(next(x))\n"
   ]
  },
  {
   "cell_type": "code",
   "execution_count": 20,
   "id": "96af3024-97b3-4a39-8421-6b068dbe202b",
   "metadata": {},
   "outputs": [
    {
     "name": "stdout",
     "output_type": "stream",
     "text": [
      "[1, 2, 3, 4, 5, 6, 7]\n",
      "[8, 9, 10, 11, 12, 13, 14]\n",
      "[15, 16, 17, 18, 19, 20, 21]\n"
     ]
    }
   ],
   "source": [
    "x = data_loader(7, lst)\n",
    "\n",
    "try:\n",
    "    print(next(x))  # batch 1\n",
    "    print(next(x))  # batch 2\n",
    "    print(next(x))  # batch 3\n",
    "    # ... keep calling next(x) until it's done\n",
    "except StopIteration:\n",
    "    print(\"All batches have been processed.\")"
   ]
  },
  {
   "cell_type": "code",
   "execution_count": 22,
   "id": "3c5e0bd9-78ad-4f88-af9e-1dba338f377a",
   "metadata": {},
   "outputs": [
    {
     "name": "stdout",
     "output_type": "stream",
     "text": [
      "\n",
      "    ===== Batch 1 =====\n",
      "    First item: 1\n",
      "    Last item:  10\n",
      "    Length:     10\n",
      "    ======================\n",
      "    \n",
      "\n",
      "    ===== Batch 2 =====\n",
      "    First item: 11\n",
      "    Last item:  20\n",
      "    Length:     10\n",
      "    ======================\n",
      "    \n",
      "\n",
      "    ===== Batch 3 =====\n",
      "    First item: 21\n",
      "    Last item:  30\n",
      "    Length:     10\n",
      "    ======================\n",
      "    \n",
      "\n",
      "    ===== Batch 4 =====\n",
      "    First item: 31\n",
      "    Last item:  40\n",
      "    Length:     10\n",
      "    ======================\n",
      "    \n",
      "\n",
      "    ===== Batch 5 =====\n",
      "    First item: 41\n",
      "    Last item:  50\n",
      "    Length:     10\n",
      "    ======================\n",
      "    \n",
      "\n",
      "    ===== Batch 6 =====\n",
      "    First item: 51\n",
      "    Last item:  60\n",
      "    Length:     10\n",
      "    ======================\n",
      "    \n",
      "\n",
      "    ===== Batch 7 =====\n",
      "    First item: 61\n",
      "    Last item:  70\n",
      "    Length:     10\n",
      "    ======================\n",
      "    \n",
      "\n",
      "    ===== Batch 8 =====\n",
      "    First item: 71\n",
      "    Last item:  80\n",
      "    Length:     10\n",
      "    ======================\n",
      "    \n",
      "\n",
      "    ===== Batch 9 =====\n",
      "    First item: 81\n",
      "    Last item:  90\n",
      "    Length:     10\n",
      "    ======================\n",
      "    \n",
      "\n",
      "    ===== Batch 10 =====\n",
      "    First item: 91\n",
      "    Last item:  100\n",
      "    Length:     10\n",
      "    ======================\n",
      "    \n",
      "\n",
      "    ===== Batch 11 =====\n",
      "    First item: 101\n",
      "    Last item:  110\n",
      "    Length:     10\n",
      "    ======================\n",
      "    \n",
      "\n",
      "    ===== Batch 12 =====\n",
      "    First item: 111\n",
      "    Last item:  120\n",
      "    Length:     10\n",
      "    ======================\n",
      "    \n",
      "\n",
      "    ===== Batch 13 =====\n",
      "    First item: 121\n",
      "    Last item:  130\n",
      "    Length:     10\n",
      "    ======================\n",
      "    \n",
      "\n",
      "    ===== Batch 14 =====\n",
      "    First item: 131\n",
      "    Last item:  140\n",
      "    Length:     10\n",
      "    ======================\n",
      "    \n",
      "\n",
      "    ===== Batch 15 =====\n",
      "    First item: 141\n",
      "    Last item:  150\n",
      "    Length:     10\n",
      "    ======================\n",
      "    \n",
      "\n",
      "    ===== Batch 16 =====\n",
      "    First item: 151\n",
      "    Last item:  160\n",
      "    Length:     10\n",
      "    ======================\n",
      "    \n",
      "\n",
      "    ===== Batch 17 =====\n",
      "    First item: 161\n",
      "    Last item:  170\n",
      "    Length:     10\n",
      "    ======================\n",
      "    \n",
      "\n",
      "    ===== Batch 18 =====\n",
      "    First item: 171\n",
      "    Last item:  180\n",
      "    Length:     10\n",
      "    ======================\n",
      "    \n",
      "\n",
      "    ===== Batch 19 =====\n",
      "    First item: 181\n",
      "    Last item:  190\n",
      "    Length:     10\n",
      "    ======================\n",
      "    \n",
      "\n",
      "    ===== Batch 20 =====\n",
      "    First item: 191\n",
      "    Last item:  200\n",
      "    Length:     10\n",
      "    ======================\n",
      "    \n",
      "\n",
      "    ===== Batch 21 =====\n",
      "    First item: 201\n",
      "    Last item:  210\n",
      "    Length:     10\n",
      "    ======================\n",
      "    \n",
      "\n",
      "    ===== Batch 22 =====\n",
      "    First item: 211\n",
      "    Last item:  220\n",
      "    Length:     10\n",
      "    ======================\n",
      "    \n",
      "\n",
      "    ===== Batch 23 =====\n",
      "    First item: 221\n",
      "    Last item:  230\n",
      "    Length:     10\n",
      "    ======================\n",
      "    \n",
      "\n",
      "    ===== Batch 24 =====\n",
      "    First item: 231\n",
      "    Last item:  240\n",
      "    Length:     10\n",
      "    ======================\n",
      "    \n",
      "\n",
      "    ===== Batch 25 =====\n",
      "    First item: 241\n",
      "    Last item:  250\n",
      "    Length:     10\n",
      "    ======================\n",
      "    \n",
      "\n",
      "    ===== Batch 26 =====\n",
      "    First item: 251\n",
      "    Last item:  260\n",
      "    Length:     10\n",
      "    ======================\n",
      "    \n",
      "\n",
      "    ===== Batch 27 =====\n",
      "    First item: 261\n",
      "    Last item:  270\n",
      "    Length:     10\n",
      "    ======================\n",
      "    \n",
      "\n",
      "    ===== Batch 28 =====\n",
      "    First item: 271\n",
      "    Last item:  280\n",
      "    Length:     10\n",
      "    ======================\n",
      "    \n",
      "\n",
      "    ===== Batch 29 =====\n",
      "    First item: 281\n",
      "    Last item:  290\n",
      "    Length:     10\n",
      "    ======================\n",
      "    \n",
      "\n",
      "    ===== Batch 30 =====\n",
      "    First item: 291\n",
      "    Last item:  300\n",
      "    Length:     10\n",
      "    ======================\n",
      "    \n",
      "\n",
      "    ===== Batch 31 =====\n",
      "    First item: 301\n",
      "    Last item:  310\n",
      "    Length:     10\n",
      "    ======================\n",
      "    \n",
      "\n",
      "    ===== Batch 32 =====\n",
      "    First item: 311\n",
      "    Last item:  320\n",
      "    Length:     10\n",
      "    ======================\n",
      "    \n",
      "\n",
      "    ===== Batch 33 =====\n",
      "    First item: 321\n",
      "    Last item:  330\n",
      "    Length:     10\n",
      "    ======================\n",
      "    \n",
      "\n",
      "    ===== Batch 34 =====\n",
      "    First item: 331\n",
      "    Last item:  340\n",
      "    Length:     10\n",
      "    ======================\n",
      "    \n",
      "\n",
      "    ===== Batch 35 =====\n",
      "    First item: 341\n",
      "    Last item:  350\n",
      "    Length:     10\n",
      "    ======================\n",
      "    \n",
      "\n",
      "    ===== Batch 36 =====\n",
      "    First item: 351\n",
      "    Last item:  360\n",
      "    Length:     10\n",
      "    ======================\n",
      "    \n",
      "\n",
      "    ===== Batch 37 =====\n",
      "    First item: 361\n",
      "    Last item:  370\n",
      "    Length:     10\n",
      "    ======================\n",
      "    \n",
      "\n",
      "    ===== Batch 38 =====\n",
      "    First item: 371\n",
      "    Last item:  380\n",
      "    Length:     10\n",
      "    ======================\n",
      "    \n",
      "\n",
      "    ===== Batch 39 =====\n",
      "    First item: 381\n",
      "    Last item:  390\n",
      "    Length:     10\n",
      "    ======================\n",
      "    \n",
      "\n",
      "    ===== Batch 40 =====\n",
      "    First item: 391\n",
      "    Last item:  400\n",
      "    Length:     10\n",
      "    ======================\n",
      "    \n",
      "\n",
      "    ===== Batch 41 =====\n",
      "    First item: 401\n",
      "    Last item:  410\n",
      "    Length:     10\n",
      "    ======================\n",
      "    \n",
      "\n",
      "    ===== Batch 42 =====\n",
      "    First item: 411\n",
      "    Last item:  420\n",
      "    Length:     10\n",
      "    ======================\n",
      "    \n",
      "\n",
      "    ===== Batch 43 =====\n",
      "    First item: 421\n",
      "    Last item:  430\n",
      "    Length:     10\n",
      "    ======================\n",
      "    \n",
      "\n",
      "    ===== Batch 44 =====\n",
      "    First item: 431\n",
      "    Last item:  440\n",
      "    Length:     10\n",
      "    ======================\n",
      "    \n",
      "\n",
      "    ===== Batch 45 =====\n",
      "    First item: 441\n",
      "    Last item:  450\n",
      "    Length:     10\n",
      "    ======================\n",
      "    \n",
      "\n",
      "    ===== Batch 46 =====\n",
      "    First item: 451\n",
      "    Last item:  460\n",
      "    Length:     10\n",
      "    ======================\n",
      "    \n",
      "\n",
      "    ===== Batch 47 =====\n",
      "    First item: 461\n",
      "    Last item:  470\n",
      "    Length:     10\n",
      "    ======================\n",
      "    \n",
      "\n",
      "    ===== Batch 48 =====\n",
      "    First item: 471\n",
      "    Last item:  480\n",
      "    Length:     10\n",
      "    ======================\n",
      "    \n",
      "\n",
      "    ===== Batch 49 =====\n",
      "    First item: 481\n",
      "    Last item:  490\n",
      "    Length:     10\n",
      "    ======================\n",
      "    \n",
      "\n",
      "    ===== Batch 50 =====\n",
      "    First item: 491\n",
      "    Last item:  499\n",
      "    Length:     9\n",
      "    ======================\n",
      "    \n"
     ]
    }
   ],
   "source": [
    "for i, batch in enumerate(data_loader(10, lst)):\n",
    "    print(f\"\"\"\n",
    "    ===== Batch {i + 1} =====\n",
    "    First item: {batch[0]}\n",
    "    Last item:  {batch[-1]}\n",
    "    Length:     {len(batch)}\n",
    "    ======================\n",
    "    \"\"\")"
   ]
  },
  {
   "cell_type": "markdown",
   "id": "03bfd4b0-573b-4302-a2b8-32ea33ebe876",
   "metadata": {},
   "source": [
    "## Lambda function"
   ]
  },
  {
   "cell_type": "code",
   "execution_count": 23,
   "id": "ceb78b6a-8ab4-4a2c-b397-71a02c0bb47b",
   "metadata": {},
   "outputs": [
    {
     "name": "stdout",
     "output_type": "stream",
     "text": [
      "13\n"
     ]
    }
   ],
   "source": [
    "def square_addition(x,y):\n",
    "    return x**2 + y**2 \n",
    "\n",
    "\n",
    "sq_add = lambda x,y : x**2 + y**2 \n",
    "\n",
    "print( sq_add(2,3))"
   ]
  },
  {
   "cell_type": "markdown",
   "id": "34e15aa0-fbcd-4053-ad68-33c81ec7b030",
   "metadata": {},
   "source": [
    "## map"
   ]
  },
  {
   "cell_type": "code",
   "execution_count": 24,
   "id": "4ee65d19-5966-4147-bd1c-2d58548ad673",
   "metadata": {},
   "outputs": [
    {
     "name": "stdout",
     "output_type": "stream",
     "text": [
      "[1, 4, 9, 16, 25, 36]\n"
     ]
    }
   ],
   "source": [
    "lst = [ 1 ,2 ,3 ,4 ,5 ,6 ]\n",
    "\n",
    "def square(x):\n",
    "    return x**2 \n",
    "\n",
    "lst = list(map(square ,lst))\n",
    "\n",
    "print(lst)"
   ]
  },
  {
   "cell_type": "markdown",
   "id": "49323cae-cc96-4322-b303-a30a96a04cf5",
   "metadata": {},
   "source": [
    "## filter"
   ]
  },
  {
   "cell_type": "code",
   "execution_count": null,
   "id": "4b89f2cd-b29e-4c44-9b13-cf20ba0712a6",
   "metadata": {},
   "outputs": [],
   "source": [
    "data = [0, 1, '',None, 'Hello', [], [1, 2], None, True, False, None]\n",
    "\n",
    "cleaned_data = list(filter(None, data))\n",
    "\n",
    "print(cleaned_data) "
   ]
  },
  {
   "cell_type": "markdown",
   "id": "91d12b21-848f-4f01-83e9-6932743896db",
   "metadata": {},
   "source": [
    "## Reduce"
   ]
  },
  {
   "cell_type": "code",
   "execution_count": 25,
   "id": "295dfb45-700f-47a7-805b-72cbf4ce4f4c",
   "metadata": {},
   "outputs": [],
   "source": [
    "from functools import reduce "
   ]
  },
  {
   "cell_type": "code",
   "execution_count": 26,
   "id": "2cc6f165-9144-4022-b513-835d45bf353e",
   "metadata": {},
   "outputs": [
    {
     "name": "stdout",
     "output_type": "stream",
     "text": [
      "21\n"
     ]
    }
   ],
   "source": [
    "lst = [ 1 ,2 ,3 ,4 ,5 ,6 ]\n",
    "\n",
    "summation = reduce(lambda x,y : x+y , lst) \n",
    "\n",
    "print(summation)"
   ]
  },
  {
   "cell_type": "code",
   "execution_count": null,
   "id": "706e1c5e-ef10-471a-972b-a1574d7440af",
   "metadata": {},
   "outputs": [],
   "source": []
  }
 ],
 "metadata": {
  "kernelspec": {
   "display_name": "Python 3 (ipykernel)",
   "language": "python",
   "name": "python3"
  },
  "language_info": {
   "codemirror_mode": {
    "name": "ipython",
    "version": 3
   },
   "file_extension": ".py",
   "mimetype": "text/x-python",
   "name": "python",
   "nbconvert_exporter": "python",
   "pygments_lexer": "ipython3",
   "version": "3.13.5"
  },
  "widgets": {
   "application/vnd.jupyter.widget-state+json": {
    "state": {},
    "version_major": 2,
    "version_minor": 0
   }
  }
 },
 "nbformat": 4,
 "nbformat_minor": 5
}
