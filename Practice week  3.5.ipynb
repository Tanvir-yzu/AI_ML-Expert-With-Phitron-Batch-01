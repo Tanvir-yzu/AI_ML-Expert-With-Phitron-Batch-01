{
 "cells": [
  {
   "cell_type": "code",
   "execution_count": 1,
   "id": "c1a3c0c2-0d48-40b8-84c5-72c38d84872c",
   "metadata": {},
   "outputs": [],
   "source": [
    "import numpy as np"
   ]
  },
  {
   "cell_type": "code",
   "execution_count": 2,
   "id": "8266d773-eaf5-4065-b6b6-6cb16cdbdee3",
   "metadata": {},
   "outputs": [],
   "source": [
    "import pandas as pd"
   ]
  },
  {
   "cell_type": "markdown",
   "id": "97c3c377-6663-4ce3-91be-f90d35d14155",
   "metadata": {},
   "source": [
    "1. Student Marks Analyzer\n",
    "You are helping a teacher check exam results.\n",
    " Create a NumPy array with 10 random integers between 0 and 100 (student scores).\n",
    "\n",
    " Find:\n",
    " - the highest score\n",
    " - the lowest score\n",
    " - the average score\n",
    "\n",
    " Hint: use np.random.randint(), arr.max(), arr.min(), arr.mean()"
   ]
  },
  {
   "cell_type": "code",
   "execution_count": 11,
   "id": "014349fd-990e-48e8-a975-80c62513983a",
   "metadata": {},
   "outputs": [],
   "source": [
    "scores = np.random.randint(0,101, size=10)"
   ]
  },
  {
   "cell_type": "code",
   "execution_count": 12,
   "id": "9e11ad79-f93f-498b-a542-48ef05b527b3",
   "metadata": {},
   "outputs": [
    {
     "name": "stdout",
     "output_type": "stream",
     "text": [
      "[99 28 54 51 77 60 30 38 21 70]\n",
      " highest: 99\n",
      " lowest : 21\n",
      " avg: 52.8\n"
     ]
    }
   ],
   "source": [
    "print(scores)\n",
    "print(f\" highest: {scores.max()}\")\n",
    "print(f\" lowest : {scores.min()}\")\n",
    "print(f\" avg: {scores.mean()}\")"
   ]
  },
  {
   "cell_type": "markdown",
   "id": "db25e08c-6676-46e4-a2e4-0db7dcca6d6e",
   "metadata": {},
   "source": [
    "2. Warehouse Weights\n",
    "A warehouse stores item weights (in kg):\n",
    " arr = np.array([45, 60, 55, 30, 90, 75, 40, 50])\n",
    "\n",
    " Find and print:\n",
    " - all items heavier than 50 kg\n",
    " - the sorted weights\n",
    " - the index of the heaviest item\n",
    "\n",
    " Hint: use arr[arr > 50], np.sort(arr), arr.argmax()"
   ]
  },
  {
   "cell_type": "code",
   "execution_count": 21,
   "id": "b6e7211b-b2d4-44a3-8d21-2797599975d2",
   "metadata": {},
   "outputs": [],
   "source": [
    "arr = np.array([45, 60, 55, 30, 90, 75, 40, 50])"
   ]
  },
  {
   "cell_type": "code",
   "execution_count": 22,
   "id": "90caccb2-5f98-49ed-9084-3ebbbf38640f",
   "metadata": {},
   "outputs": [],
   "source": [
    "heavier = arr[arr > 50]\n",
    "sorted_weights = np.sort(arr)"
   ]
  },
  {
   "cell_type": "code",
   "execution_count": 20,
   "id": "4af3830c-5650-436b-b875-6c6eeebcc7d1",
   "metadata": {},
   "outputs": [
    {
     "ename": "TypeError",
     "evalue": "argmax() missing 1 required positional argument: 'a'",
     "output_type": "error",
     "traceback": [
      "\u001b[1;31m---------------------------------------------------------------------------\u001b[0m",
      "\u001b[1;31mTypeError\u001b[0m                                 Traceback (most recent call last)",
      "Cell \u001b[1;32mIn[20], line 1\u001b[0m\n\u001b[1;32m----> 1\u001b[0m heaviest_index \u001b[38;5;241m=\u001b[39m \u001b[43mnp\u001b[49m\u001b[38;5;241;43m.\u001b[39;49m\u001b[43margmax\u001b[49m\u001b[43m(\u001b[49m\u001b[43m)\u001b[49m\n",
      "\u001b[1;31mTypeError\u001b[0m: argmax() missing 1 required positional argument: 'a'"
     ]
    }
   ],
   "source": [
    "heaviest_index = np.argmax()"
   ]
  },
  {
   "cell_type": "code",
   "execution_count": 18,
   "id": "79ec5a9a-759c-4b6b-abff-4c99e4630bd4",
   "metadata": {},
   "outputs": [
    {
     "name": "stdout",
     "output_type": "stream",
     "text": [
      "[45 60 55 30 90 75 40 50]\n",
      "[60 55 90 75]\n",
      "[30 40 45 50 55 60 75 90]\n"
     ]
    }
   ],
   "source": [
    "print(arr)\n",
    "print(heavier)\n",
    "print(sorted_weights)"
   ]
  },
  {
   "cell_type": "markdown",
   "id": "5aece6cb-82d3-446f-a661-2be17ee6a252",
   "metadata": {},
   "source": [
    "3. Temperature Report\n",
    "A weather station collects temperatures (°C) from 4 zones.\n",
    " Generate random integers between 20 and 40 for a 4×4 grid.\n",
    "\n",
    " Then find:\n",
    " - the average temperature of each zone (row)\n",
    " - the highest temperature in the grid\n",
    " - replace all temperatures above 35 with 35"
   ]
  },
  {
   "cell_type": "markdown",
   "id": "4642d98d-a07d-4e24-9119-ad69749f11c8",
   "metadata": {},
   "source": [
    "4. Traffic Data\n",
    "A city records the number of cars passing 5 intersections in 3 time slots (morning, afternoon, night).\n",
    " Create a 3×5 array of random integers between 0 and 50.\n",
    "\n",
    " Then find:\n",
    " - total cars per intersection (sum by column)\n",
    " - total cars per time slot (sum by row)"
   ]
  },
  {
   "cell_type": "markdown",
   "id": "8de05107-d749-4205-b4bc-2998f9cff380",
   "metadata": {},
   "source": [
    "5. Fruit Store Stock\n",
    "You sell fruits in your store. Stock levels (kg) for 5 days are:\n",
    " stock = np.array([12, 15, 9, 20, 18])\n",
    "\n",
    " A new delivery adds 5 kg to each stock.\n",
    " Then 10% of all fruits get spoiled.\n",
    "\n",
    " Find the final stock levels.\n",
    "\n",
    " Hint: use broadcasting and simple math."
   ]
  },
  {
   "cell_type": "markdown",
   "id": "16e75250-ff8e-461a-9684-1cb85e26814b",
   "metadata": {},
   "source": [
    "## Part 2: Pandas Practice"
   ]
  },
  {
   "cell_type": "markdown",
   "id": "7cffa8c7-1b8d-4cef-a813-381fddec17c6",
   "metadata": {},
   "source": [
    "1. Student Report Analyzer\n",
    "You are given this data:\n",
    "\n",
    " import pandas as pd\n",
    "\n",
    " data = {\n",
    " \t'Name': ['Rahim', 'Karim', 'Selina', 'Babul', 'Mitu'],\n",
    " \t'Math': [88, 75, 95, 60, 80],\n",
    " \t'English': [78, 85, 90, 70, 88],\n",
    " \t'Science': [92, 70, 85, 65, 90]\n",
    " }\n",
    " df = pd.DataFrame(data)\n",
    "\n",
    " Tasks:\n",
    " 1. Display only the first 3 rows.\n",
    " 2. Print the column names and index values."
   ]
  },
  {
   "cell_type": "markdown",
   "id": "759b9f0b-e6dd-40a6-9574-a598b01d5c09",
   "metadata": {},
   "source": [
    "2. Shop Sales Data\n",
    "You run a small electronics shop. The data is stored like this:\n",
    "\n",
    " data = {\n",
    " \t'Product': ['Phone', 'Laptop', 'Tablet', 'Monitor', 'Mouse'],\n",
    " \t'Price': [700, 1200, 300, 250, 50],\n",
    " \t'Units_Sold': [10, 5, 8, 6, 20]\n",
    " }\n",
    " df = pd.DataFrame(data)\n",
    "\n",
    " Tasks:\n",
    " 1. Display only the 'Product' and 'Price' columns.\n",
    " 2. Access the 3rd row using both iloc and loc.\n",
    " 3. Show the top 3 products with the highest revenue."
   ]
  },
  {
   "cell_type": "markdown",
   "id": "2fd27796-fd6e-435b-85d7-0378660ff8fe",
   "metadata": {},
   "source": [
    "3. Attendance Tracker\n",
    "Here’s an attendance sheet:\n",
    "\n",
    " data = {\n",
    " \t'Student': ['Amin', 'Tina', 'Rafi', 'Nadia', 'Sabbir'],\n",
    " \t'Days_Present': [20, 18, 22, 15, 25],\n",
    " \t'Days_Absent': [2, 4, 1, 7, 0]\n",
    " }\n",
    " df = pd.DataFrame(data)\n",
    "\n",
    " Tasks:\n",
    " 1. Make 'Student' the index column.\n",
    " 2. Drop the 'Days_Absent' column."
   ]
  },
  {
   "cell_type": "markdown",
   "id": "bd1839b5-1eb7-41a0-bd92-3ed88c6ca2c2",
   "metadata": {},
   "source": [
    "4. Filtering Employee Data\n",
    "Employee record:\n",
    "\n",
    " data = {\n",
    " \t'Name': ['Rafiq', 'Nadia', 'Tuhin', 'Rima', 'Faruk'],\n",
    " \t'Department': ['HR', 'IT', 'IT', 'Sales', 'Sales'],\n",
    " \t'Salary': [40000, 55000, 52000, 45000, 47000],\n",
    " \t'Experience': [2, 5, 4, 3, 6]\n",
    " }\n",
    " df = pd.DataFrame(data)\n",
    "\n",
    " Tasks:\n",
    " 1. Show employees with Salary > 45000.\n",
    " 2. Show employees from the IT department only.\n",
    " 3. Show employees with Salary > 45000 and Experience > 3.\n",
    " 4. Sort the employees by Experience (ascending)."
   ]
  },
  {
   "cell_type": "markdown",
   "id": "dec67282-3687-432a-9c8e-b6814feaadd4",
   "metadata": {},
   "source": [
    "5. City Weather Dashboard\n",
    "data = {\n",
    " \t'City': ['Dhaka', 'Sylhet', 'Chittagong', 'Rajshahi', 'Khulna'],\n",
    " \t'Temp': [32, 28, 30, 35, 33],\n",
    " \t'Humidity': [60, 75, 70, 55, 65]\n",
    " }\n",
    " df = pd.DataFrame(data)\n",
    "\n",
    " Tasks:\n",
    " 1. Show only the cities where FeelsLike > 33.\n",
    " 2. Sort the DataFrame by FeelsLike (descending).\n",
    " 3. Find which city has the highest humidity."
   ]
  }
 ],
 "metadata": {
  "kernelspec": {
   "display_name": "Python 3 (ipykernel)",
   "language": "python",
   "name": "python3"
  },
  "language_info": {
   "codemirror_mode": {
    "name": "ipython",
    "version": 3
   },
   "file_extension": ".py",
   "mimetype": "text/x-python",
   "name": "python",
   "nbconvert_exporter": "python",
   "pygments_lexer": "ipython3",
   "version": "3.13.5"
  },
  "widgets": {
   "application/vnd.jupyter.widget-state+json": {
    "state": {},
    "version_major": 2,
    "version_minor": 0
   }
  }
 },
 "nbformat": 4,
 "nbformat_minor": 5
}
