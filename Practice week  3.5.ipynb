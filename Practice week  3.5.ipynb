{
 "cells": [
  {
   "cell_type": "code",
   "execution_count": 1,
   "id": "c1a3c0c2-0d48-40b8-84c5-72c38d84872c",
   "metadata": {},
   "outputs": [],
   "source": [
    "import numpy as np"
   ]
  },
  {
   "cell_type": "code",
   "execution_count": 2,
   "id": "8266d773-eaf5-4065-b6b6-6cb16cdbdee3",
   "metadata": {},
   "outputs": [],
   "source": [
    "import pandas as pd"
   ]
  },
  {
   "cell_type": "markdown",
   "id": "97c3c377-6663-4ce3-91be-f90d35d14155",
   "metadata": {},
   "source": [
    "1. Student Marks Analyzer\n",
    "You are helping a teacher check exam results.\n",
    " Create a NumPy array with 10 random integers between 0 and 100 (student scores).\n",
    "\n",
    " Find:\n",
    " - the highest score\n",
    " - the lowest score\n",
    " - the average score\n",
    "\n",
    " Hint: use np.random.randint(), arr.max(), arr.min(), arr.mean()"
   ]
  },
  {
   "cell_type": "code",
   "execution_count": 11,
   "id": "014349fd-990e-48e8-a975-80c62513983a",
   "metadata": {},
   "outputs": [],
   "source": [
    "scores = np.random.randint(0,101, size=10)"
   ]
  },
  {
   "cell_type": "code",
   "execution_count": 12,
   "id": "9e11ad79-f93f-498b-a542-48ef05b527b3",
   "metadata": {},
   "outputs": [
    {
     "name": "stdout",
     "output_type": "stream",
     "text": [
      "[99 28 54 51 77 60 30 38 21 70]\n",
      " highest: 99\n",
      " lowest : 21\n",
      " avg: 52.8\n"
     ]
    }
   ],
   "source": [
    "print(scores)\n",
    "print(f\" highest: {scores.max()}\")\n",
    "print(f\" lowest : {scores.min()}\")\n",
    "print(f\" avg: {scores.mean()}\")"
   ]
  },
  {
   "cell_type": "markdown",
   "id": "db25e08c-6676-46e4-a2e4-0db7dcca6d6e",
   "metadata": {},
   "source": [
    "2. Warehouse Weights\n",
    "A warehouse stores item weights (in kg):\n",
    " arr = np.array([45, 60, 55, 30, 90, 75, 40, 50])\n",
    "\n",
    " Find and print:\n",
    " - all items heavier than 50 kg\n",
    " - the sorted weights\n",
    " - the index of the heaviest item\n",
    "\n",
    " Hint: use arr[arr > 50], np.sort(arr), arr.argmax()"
   ]
  },
  {
   "cell_type": "code",
   "execution_count": 21,
   "id": "b6e7211b-b2d4-44a3-8d21-2797599975d2",
   "metadata": {},
   "outputs": [],
   "source": [
    "arr = np.array([45, 60, 55, 30, 90, 75, 40, 50])"
   ]
  },
  {
   "cell_type": "code",
   "execution_count": 22,
   "id": "90caccb2-5f98-49ed-9084-3ebbbf38640f",
   "metadata": {},
   "outputs": [],
   "source": [
    "heavier = arr[arr > 50]\n",
    "sorted_weights = np.sort(arr)"
   ]
  },
  {
   "cell_type": "code",
   "execution_count": 24,
   "id": "4af3830c-5650-436b-b875-6c6eeebcc7d1",
   "metadata": {},
   "outputs": [],
   "source": [
    "heaviest_index = arr.argmax()"
   ]
  },
  {
   "cell_type": "code",
   "execution_count": 26,
   "id": "79ec5a9a-759c-4b6b-abff-4c99e4630bd4",
   "metadata": {},
   "outputs": [
    {
     "name": "stdout",
     "output_type": "stream",
     "text": [
      "[45 60 55 30 90 75 40 50]\n",
      "Items > 50 kg: [60 55 90 75]\n",
      "Sorted Weights: [30 40 45 50 55 60 75 90]\n",
      "Index of Heaviest Item: 4\n"
     ]
    }
   ],
   "source": [
    "print(arr)\n",
    "print(\"Items > 50 kg:\", heavier)\n",
    "print(\"Sorted Weights:\", sorted_weights)\n",
    "print(\"Index of Heaviest Item:\", heaviest_index)"
   ]
  },
  {
   "cell_type": "markdown",
   "id": "5aece6cb-82d3-446f-a661-2be17ee6a252",
   "metadata": {},
   "source": [
    "3. Temperature Report\n",
    "A weather station collects temperatures (°C) from 4 zones.\n",
    " Generate random integers between 20 and 40 for a 4×4 grid.\n",
    "\n",
    " Then find:\n",
    " - the average temperature of each zone (row)\n",
    " - the highest temperature in the grid\n",
    " - replace all temperatures above 35 with 35"
   ]
  },
  {
   "cell_type": "code",
   "execution_count": 42,
   "id": "ad755f72-ded9-4ed1-a3a1-1759ce073a8e",
   "metadata": {},
   "outputs": [
    {
     "name": "stdout",
     "output_type": "stream",
     "text": [
      "Temperature Grid: [[21 36 27 32]\n",
      " [22 20 40 30]\n",
      " [34 34 22 35]\n",
      " [32 33 23 30]]\n",
      "Average per Zone: [29.   28.   31.25 29.5 ]\n",
      "Max Temperature: 40\n",
      "Capped Temperatures (max 35): [[21 35 27 32]\n",
      " [22 20 35 30]\n",
      " [34 34 22 35]\n",
      " [32 33 23 30]]\n"
     ]
    }
   ],
   "source": [
    "# 4x4 grid of random temps between 20 and 40\n",
    "temps = np.random.randint(20, 41, size=(4, 4))\n",
    "\n",
    "# Average temp per zone (row)\n",
    "avg_per_zone = temps.mean(axis=1)\n",
    "\n",
    "# Highest temperature in the grid\n",
    "max_temp = temps.max()\n",
    "\n",
    "# Replace temps > 35 with 35\n",
    "temps_capped = np.where(temps > 35, 35, temps)\n",
    "\n",
    "print(\"Temperature Grid:\", temps)\n",
    "print(\"Average per Zone:\", avg_per_zone)\n",
    "print(\"Max Temperature:\", max_temp)\n",
    "print(\"Capped Temperatures (max 35):\", temps_capped)"
   ]
  },
  {
   "cell_type": "markdown",
   "id": "4642d98d-a07d-4e24-9119-ad69749f11c8",
   "metadata": {},
   "source": [
    "4. Traffic Data\n",
    "A city records the number of cars passing 5 intersections in 3 time slots (morning, afternoon, night).\n",
    " Create a 3×5 array of random integers between 0 and 50.\n",
    "\n",
    " Then find:\n",
    " - total cars per intersection (sum by column)\n",
    " - total cars per time slot (sum by row)"
   ]
  },
  {
   "cell_type": "code",
   "execution_count": 43,
   "id": "bd83150f-2164-432e-875a-9366d02ddcb3",
   "metadata": {},
   "outputs": [
    {
     "name": "stdout",
     "output_type": "stream",
     "text": [
      "Traffic Data: [[31  1  0  5 24]\n",
      " [40 12 48 30 40]\n",
      " [ 8 22 49  5 13]]\n",
      "Total Cars per Intersection: [79 35 97 40 77]\n",
      "Total Cars per Time Slot: [ 61 170  97]\n"
     ]
    }
   ],
   "source": [
    "# 3 time slots (rows) x 5 intersections (columns)\n",
    "traffic = np.random.randint(0, 51, size=(3, 5))\n",
    "\n",
    "# Total cars per intersection (sum across rows → by column)\n",
    "total_per_intersection = traffic.sum(axis=0)\n",
    "\n",
    "# Total cars per time slot (sum across columns → by row)\n",
    "total_per_timeslot = traffic.sum(axis=1)\n",
    "\n",
    "print(\"Traffic Data:\", traffic)\n",
    "print(\"Total Cars per Intersection:\", total_per_intersection)\n",
    "print(\"Total Cars per Time Slot:\", total_per_timeslot)"
   ]
  },
  {
   "cell_type": "markdown",
   "id": "8de05107-d749-4205-b4bc-2998f9cff380",
   "metadata": {},
   "source": [
    "5. Fruit Store Stock\n",
    "You sell fruits in your store. Stock levels (kg) for 5 days are:\n",
    " stock = np.array([12, 15, 9, 20, 18])\n",
    "\n",
    " A new delivery adds 5 kg to each stock.\n",
    " Then 10% of all fruits get spoiled.\n",
    "\n",
    " Find the final stock levels.\n",
    "\n",
    " Hint: use broadcasting and simple math."
   ]
  },
  {
   "cell_type": "code",
   "execution_count": 44,
   "id": "a46f52c4-c0ef-4c38-b35d-f5de5f94987a",
   "metadata": {},
   "outputs": [
    {
     "ename": "UFuncTypeError",
     "evalue": "Cannot cast ufunc 'multiply' output from dtype('float64') to dtype('int64') with casting rule 'same_kind'",
     "output_type": "error",
     "traceback": [
      "\u001b[1;31m---------------------------------------------------------------------------\u001b[0m",
      "\u001b[1;31mUFuncTypeError\u001b[0m                            Traceback (most recent call last)",
      "Cell \u001b[1;32mIn[44], line 7\u001b[0m\n\u001b[0;32m      4\u001b[0m stock \u001b[38;5;241m+\u001b[39m\u001b[38;5;241m=\u001b[39m \u001b[38;5;241m5\u001b[39m\n\u001b[0;32m      6\u001b[0m \u001b[38;5;66;03m# 10% spoilage\u001b[39;00m\n\u001b[1;32m----> 7\u001b[0m \u001b[43mstock\u001b[49m\u001b[43m \u001b[49m\u001b[38;5;241;43m*\u001b[39;49m\u001b[38;5;241;43m=\u001b[39;49m\u001b[43m \u001b[49m\u001b[38;5;241;43m0.9\u001b[39;49m  \u001b[38;5;66;03m# or stock = stock * 0.9\u001b[39;00m\n\u001b[0;32m      9\u001b[0m \u001b[38;5;28mprint\u001b[39m(\u001b[38;5;124m\"\u001b[39m\u001b[38;5;124mFinal Stock Levels (kg):\u001b[39m\u001b[38;5;124m\"\u001b[39m, stock)\n",
      "\u001b[1;31mUFuncTypeError\u001b[0m: Cannot cast ufunc 'multiply' output from dtype('float64') to dtype('int64') with casting rule 'same_kind'"
     ]
    }
   ],
   "source": [
    "stock = np.array([12, 15, 9, 20, 18])\n",
    "\n",
    "# Add 5 kg to each\n",
    "stock += 5\n",
    "\n",
    "# 10% spoilage\n",
    "stock *= 0.9  # or stock = stock * 0.9\n",
    "\n",
    "print(\"Final Stock Levels (kg):\", stock)"
   ]
  },
  {
   "cell_type": "markdown",
   "id": "16e75250-ff8e-461a-9684-1cb85e26814b",
   "metadata": {},
   "source": [
    "## Part 2: Pandas Practice"
   ]
  },
  {
   "cell_type": "markdown",
   "id": "7cffa8c7-1b8d-4cef-a813-381fddec17c6",
   "metadata": {},
   "source": [
    "1. Student Report Analyzer\n",
    "You are given this data:\n",
    "\n",
    " import pandas as pd\n",
    "\n",
    " data = {\n",
    " \t'Name': ['Rahim', 'Karim', 'Selina', 'Babul', 'Mitu'],\n",
    " \t'Math': [88, 75, 95, 60, 80],\n",
    " \t'English': [78, 85, 90, 70, 88],\n",
    " \t'Science': [92, 70, 85, 65, 90]\n",
    " }\n",
    " df = pd.DataFrame(data)\n",
    "\n",
    " Tasks:\n",
    " 1. Display only the first 3 rows.\n",
    " 2. Print the column names and index values."
   ]
  },
  {
   "cell_type": "code",
   "execution_count": 45,
   "id": "27fdead1-f49a-4f2e-82c7-6df5f4625bed",
   "metadata": {},
   "outputs": [
    {
     "name": "stdout",
     "output_type": "stream",
     "text": [
      "First 3 Rows:\n",
      "     Name  Math  English  Science\n",
      "0   Rahim    88       78       92\n",
      "1   Karim    75       85       70\n",
      "2  Selina    95       90       85\n",
      "\n",
      "Column Names: ['Name', 'Math', 'English', 'Science']\n",
      "Index Values: [0, 1, 2, 3, 4]\n"
     ]
    }
   ],
   "source": [
    "data = {\n",
    "    'Name': ['Rahim', 'Karim', 'Selina', 'Babul', 'Mitu'],\n",
    "    'Math': [88, 75, 95, 60, 80],\n",
    "    'English': [78, 85, 90, 70, 88],\n",
    "    'Science': [92, 70, 85, 65, 90]\n",
    "}\n",
    "df = pd.DataFrame(data)\n",
    "\n",
    "# 1. First 3 rows\n",
    "print(\"First 3 Rows:\")\n",
    "print(df.head(3))\n",
    "\n",
    "# 2. Column names and index\n",
    "print(\"\\nColumn Names:\", df.columns.tolist())\n",
    "print(\"Index Values:\", df.index.tolist())"
   ]
  },
  {
   "cell_type": "markdown",
   "id": "759b9f0b-e6dd-40a6-9574-a598b01d5c09",
   "metadata": {},
   "source": [
    "2. Shop Sales Data\n",
    "You run a small electronics shop. The data is stored like this:\n",
    "\n",
    " data = {\n",
    " \t'Product': ['Phone', 'Laptop', 'Tablet', 'Monitor', 'Mouse'],\n",
    " \t'Price': [700, 1200, 300, 250, 50],\n",
    " \t'Units_Sold': [10, 5, 8, 6, 20]\n",
    " }\n",
    " df = pd.DataFrame(data)\n",
    "\n",
    " Tasks:\n",
    " 1. Display only the 'Product' and 'Price' columns.\n",
    " 2. Access the 3rd row using both iloc and loc.\n",
    " 3. Show the top 3 products with the highest revenue."
   ]
  },
  {
   "cell_type": "code",
   "execution_count": 46,
   "id": "16a39e1e-ffbe-4b35-9d2a-d90a1b2beaed",
   "metadata": {},
   "outputs": [
    {
     "name": "stdout",
     "output_type": "stream",
     "text": [
      "Product & Price:\n",
      "   Product  Price\n",
      "0    Phone    700\n",
      "1   Laptop   1200\n",
      "2   Tablet    300\n",
      "3  Monitor    250\n",
      "4    Mouse     50\n",
      "\n",
      "3rd Row (iloc): Product       Tablet\n",
      "Price            300\n",
      "Units_Sold         8\n",
      "Name: 2, dtype: object\n",
      "3rd Row (loc): Product       Tablet\n",
      "Price            300\n",
      "Units_Sold         8\n",
      "Name: 2, dtype: object\n",
      "\n",
      "Top 3 Products by Revenue:\n",
      "  Product  Revenue\n",
      "0   Phone     7000\n",
      "1  Laptop     6000\n",
      "2  Tablet     2400\n"
     ]
    }
   ],
   "source": [
    "data = {\n",
    "    'Product': ['Phone', 'Laptop', 'Tablet', 'Monitor', 'Mouse'],\n",
    "    'Price': [700, 1200, 300, 250, 50],\n",
    "    'Units_Sold': [10, 5, 8, 6, 20]\n",
    "}\n",
    "df = pd.DataFrame(data)\n",
    "\n",
    "# 1. Product and Price columns\n",
    "print(\"Product & Price:\")\n",
    "print(df[['Product', 'Price']])\n",
    "\n",
    "# 2. 3rd row using iloc and loc\n",
    "print(\"\\n3rd Row (iloc):\", df.iloc[2])\n",
    "print(\"3rd Row (loc):\", df.loc[2])  # Only works if index is default (0,1,2...)\n",
    "\n",
    "# 3. Top 3 products by revenue (Price * Units_Sold)\n",
    "df['Revenue'] = df['Price'] * df['Units_Sold']\n",
    "top3 = df.nlargest(3, 'Revenue')\n",
    "print(\"\\nTop 3 Products by Revenue:\")\n",
    "print(top3[['Product', 'Revenue']])"
   ]
  },
  {
   "cell_type": "markdown",
   "id": "2fd27796-fd6e-435b-85d7-0378660ff8fe",
   "metadata": {},
   "source": [
    "3. Attendance Tracker\n",
    "Here’s an attendance sheet:\n",
    "\n",
    " data = {\n",
    " \t'Student': ['Amin', 'Tina', 'Rafi', 'Nadia', 'Sabbir'],\n",
    " \t'Days_Present': [20, 18, 22, 15, 25],\n",
    " \t'Days_Absent': [2, 4, 1, 7, 0]\n",
    " }\n",
    " df = pd.DataFrame(data)\n",
    "\n",
    " Tasks:\n",
    " 1. Make 'Student' the index column.\n",
    " 2. Drop the 'Days_Absent' column."
   ]
  },
  {
   "cell_type": "code",
   "execution_count": 47,
   "id": "7b5a8003-feb0-4ab3-974b-813e80e9c4e5",
   "metadata": {},
   "outputs": [
    {
     "name": "stdout",
     "output_type": "stream",
     "text": [
      "DataFrame with Student as Index:\n",
      "         Days_Present  Days_Absent\n",
      "Student                           \n",
      "Amin               20            2\n",
      "Tina               18            4\n",
      "Rafi               22            1\n",
      "Nadia              15            7\n",
      "Sabbir             25            0\n",
      "\n",
      "After dropping Days_Absent:\n",
      "         Days_Present\n",
      "Student              \n",
      "Amin               20\n",
      "Tina               18\n",
      "Rafi               22\n",
      "Nadia              15\n",
      "Sabbir             25\n"
     ]
    }
   ],
   "source": [
    "data = {\n",
    "    'Student': ['Amin', 'Tina', 'Rafi', 'Nadia', 'Sabbir'],\n",
    "    'Days_Present': [20, 18, 22, 15, 25],\n",
    "    'Days_Absent': [2, 4, 1, 7, 0]\n",
    "}\n",
    "df = pd.DataFrame(data)\n",
    "\n",
    "# 1. Set 'Student' as index\n",
    "df.set_index('Student', inplace=True)\n",
    "print(\"DataFrame with Student as Index:\")\n",
    "print(df)\n",
    "\n",
    "# 2. Drop 'Days_Absent' column\n",
    "df.drop(columns=['Days_Absent'], inplace=True)\n",
    "print(\"\\nAfter dropping Days_Absent:\")\n",
    "print(df)"
   ]
  },
  {
   "cell_type": "markdown",
   "id": "bd1839b5-1eb7-41a0-bd92-3ed88c6ca2c2",
   "metadata": {},
   "source": [
    "4. Filtering Employee Data\n",
    "Employee record:\n",
    "\n",
    " data = {\n",
    " \t'Name': ['Rafiq', 'Nadia', 'Tuhin', 'Rima', 'Faruk'],\n",
    " \t'Department': ['HR', 'IT', 'IT', 'Sales', 'Sales'],\n",
    " \t'Salary': [40000, 55000, 52000, 45000, 47000],\n",
    " \t'Experience': [2, 5, 4, 3, 6]\n",
    " }\n",
    " df = pd.DataFrame(data)\n",
    "\n",
    " Tasks:\n",
    " 1. Show employees with Salary > 45000.\n",
    " 2. Show employees from the IT department only.\n",
    " 3. Show employees with Salary > 45000 and Experience > 3.\n",
    " 4. Sort the employees by Experience (ascending)."
   ]
  },
  {
   "cell_type": "code",
   "execution_count": 48,
   "id": "96d5fdb2-ae7c-4b82-9965-0630ed554c15",
   "metadata": {},
   "outputs": [
    {
     "name": "stdout",
     "output_type": "stream",
     "text": [
      "Salary > 45000:\n",
      "    Name Department  Salary  Experience\n",
      "1  Nadia         IT   55000           5\n",
      "2  Tuhin         IT   52000           4\n",
      "4  Faruk      Sales   47000           6\n",
      "\n",
      "IT Department:\n",
      "    Name Department  Salary  Experience\n",
      "1  Nadia         IT   55000           5\n",
      "2  Tuhin         IT   52000           4\n",
      "\n",
      "Salary > 45000 and Experience > 3:\n",
      "    Name Department  Salary  Experience\n",
      "1  Nadia         IT   55000           5\n",
      "2  Tuhin         IT   52000           4\n",
      "4  Faruk      Sales   47000           6\n",
      "\n",
      "Sorted by Experience (asc):\n",
      "    Name Department  Salary  Experience\n",
      "0  Rafiq         HR   40000           2\n",
      "3   Rima      Sales   45000           3\n",
      "2  Tuhin         IT   52000           4\n",
      "1  Nadia         IT   55000           5\n",
      "4  Faruk      Sales   47000           6\n"
     ]
    }
   ],
   "source": [
    "data = {\n",
    "    'Name': ['Rafiq', 'Nadia', 'Tuhin', 'Rima', 'Faruk'],\n",
    "    'Department': ['HR', 'IT', 'IT', 'Sales', 'Sales'],\n",
    "    'Salary': [40000, 55000, 52000, 45000, 47000],\n",
    "    'Experience': [2, 5, 4, 3, 6]\n",
    "}\n",
    "df = pd.DataFrame(data)\n",
    "\n",
    "# 1. Salary > 45000\n",
    "print(\"Salary > 45000:\")\n",
    "print(df[df['Salary'] > 45000])\n",
    "\n",
    "# 2. IT Department only\n",
    "print(\"\\nIT Department:\")\n",
    "print(df[df['Department'] == 'IT'])\n",
    "\n",
    "# 3. Salary > 45000 AND Experience > 3\n",
    "print(\"\\nSalary > 45000 and Experience > 3:\")\n",
    "print(df[(df['Salary'] > 45000) & (df['Experience'] > 3)])\n",
    "\n",
    "# 4. Sort by Experience (ascending)\n",
    "print(\"\\nSorted by Experience (asc):\")\n",
    "print(df.sort_values(by='Experience'))"
   ]
  },
  {
   "cell_type": "markdown",
   "id": "dec67282-3687-432a-9c8e-b6814feaadd4",
   "metadata": {},
   "source": [
    "5. City Weather Dashboard\n",
    "data = {\n",
    " \t'City': ['Dhaka', 'Sylhet', 'Chittagong', 'Rajshahi', 'Khulna'],\n",
    " \t'Temp': [32, 28, 30, 35, 33],\n",
    " \t'Humidity': [60, 75, 70, 55, 65]\n",
    " }\n",
    " df = pd.DataFrame(data)\n",
    "\n",
    " Tasks:\n",
    " 1. Show only the cities where FeelsLike > 33.\n",
    " 2. Sort the DataFrame by FeelsLike (descending).\n",
    " 3. Find which city has the highest humidity."
   ]
  },
  {
   "cell_type": "code",
   "execution_count": 49,
   "id": "bb273dfc-6056-4f40-ab9f-46474a42ea08",
   "metadata": {},
   "outputs": [
    {
     "name": "stdout",
     "output_type": "stream",
     "text": [
      "Cities with Temp > 33:\n",
      "       City  Temp  Humidity\n",
      "3  Rajshahi    35        55\n",
      "\n",
      "Sorted by Temp (descending):\n",
      "         City  Temp  Humidity\n",
      "3    Rajshahi    35        55\n",
      "4      Khulna    33        65\n",
      "0       Dhaka    32        60\n",
      "2  Chittagong    30        70\n",
      "1      Sylhet    28        75\n",
      "\n",
      "City with Highest Humidity: Sylhet\n"
     ]
    }
   ],
   "source": [
    "data = {\n",
    "    'City': ['Dhaka', 'Sylhet', 'Chittagong', 'Rajshahi', 'Khulna'],\n",
    "    'Temp': [32, 28, 30, 35, 33],\n",
    "    'Humidity': [60, 75, 70, 55, 65]\n",
    "}\n",
    "df = pd.DataFrame(data)\n",
    "\n",
    "# 1. Cities where Temp > 33\n",
    "print(\"Cities with Temp > 33:\")\n",
    "print(df[df['Temp'] > 33])\n",
    "\n",
    "# 2. Sort by Temp (descending)\n",
    "print(\"\\nSorted by Temp (descending):\")\n",
    "print(df.sort_values(by='Temp', ascending=False))\n",
    "\n",
    "# 3. City with highest Humidity\n",
    "max_humidity_city = df.loc[df['Humidity'].idxmax(), 'City']\n",
    "print(\"\\nCity with Highest Humidity:\", max_humidity_city)"
   ]
  },
  {
   "cell_type": "code",
   "execution_count": null,
   "id": "e3b30b81-d405-42d3-8db4-a984fb1c4ab4",
   "metadata": {},
   "outputs": [],
   "source": [
    "|"
   ]
  }
 ],
 "metadata": {
  "kernelspec": {
   "display_name": "Python 3 (ipykernel)",
   "language": "python",
   "name": "python3"
  },
  "language_info": {
   "codemirror_mode": {
    "name": "ipython",
    "version": 3
   },
   "file_extension": ".py",
   "mimetype": "text/x-python",
   "name": "python",
   "nbconvert_exporter": "python",
   "pygments_lexer": "ipython3",
   "version": "3.13.5"
  },
  "widgets": {
   "application/vnd.jupyter.widget-state+json": {
    "state": {},
    "version_major": 2,
    "version_minor": 0
   }
  }
 },
 "nbformat": 4,
 "nbformat_minor": 5
}
