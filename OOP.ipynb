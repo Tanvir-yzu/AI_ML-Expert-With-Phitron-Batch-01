{
 "cells": [
  {
   "cell_type": "markdown",
   "id": "9a63adfe-15ce-4725-afbd-7a82d38dd569",
   "metadata": {},
   "source": [
    "1. Make three classes:\n",
    "Phone → has model and battery (default 100).\n",
    "\n",
    "\n",
    "SmartPhone → inherits from Phone and adds operating system.\n",
    "\n",
    "\n",
    "GamingPhone  → inherits from SmartPhone and adds cooling_system.\n",
    " Add a method start_game(name) that prints\n",
    " 👉 \"Playing <name> on <model>\"."
   ]
  },
  {
   "cell_type": "code",
   "execution_count": 36,
   "id": "f546cdf9-8c94-460c-acbe-d7b6cc13ca81",
   "metadata": {},
   "outputs": [
    {
     "ename": "SyntaxError",
     "evalue": "invalid syntax (706113205.py, line 4)",
     "output_type": "error",
     "traceback": [
      "\u001b[1;36m  Cell \u001b[1;32mIn[36], line 4\u001b[1;36m\u001b[0m\n\u001b[1;33m    This project defines three classes to simulate phone devices using Object-Oriented Programming (OOP) in Python:\u001b[0m\n\u001b[1;37m         ^\u001b[0m\n\u001b[1;31mSyntaxError\u001b[0m\u001b[1;31m:\u001b[0m invalid syntax\n"
     ]
    }
   ],
   "source": [
    "# Phone Classes Project\n",
    "\n",
    "## Description\n",
    "This project defines three classes to simulate phone devices using Object-Oriented Programming (OOP) in Python:\n",
    "- **Phone**: A base class with attributes for `model` and `battery` (default value of 100).\n",
    "- **SmartPhone**: Inherits from `Phone` and adds an `operating_system` attribute.\n",
    "- **GamingPhone**: Inherits from `SmartPhone` and adds a `cooling_system` attribute. It also includes a method `start_game(name)` that prints a message like \"Playing on [name]\".\n",
    "\n",
    "This example demonstrates inheritance and basic class methods in Python.\n",
    "\n",
    "## Features\n",
    "- **Phone class**: Includes `model` (string) and `battery` (integer, default 100).\n",
    "- **SmartPhone class**: Extends `Phone` with `operating_system` (e.g., \"Android\").\n",
    "- **GamingPhone class**: Extends `SmartPhone` with `cooling_system` (e.g., \"Liquid Cooling\") and the `start_game` method.\n",
    "- **start_game method**: Takes a `name` parameter and prints \"Playing on [name]\".\n",
    "\n",
    "Example:"
   ]
  },
  {
   "cell_type": "code",
   "execution_count": 21,
   "id": "3cd0b09f-b2c6-4731-a042-c9b3a747d8a9",
   "metadata": {},
   "outputs": [],
   "source": [
    "class Phone:\n",
    "    def __init__(self, model, battery=100):\n",
    "        self.model = model\n",
    "        self.battery = battery\n",
    "\n",
    "class SmartPhone(Phone):\n",
    "    def __init__(self,model,  operating_system ,battery=100):\n",
    "        super().__init__(model,battery)\n",
    "        self.operating_system = operating_system\n",
    "\n",
    "class GamingPhone(SmartPhone):\n",
    "    def __init__(self,model,operating_system,cooling_system, battery=100):\n",
    "        super().__init__(model, operating_system,battery)\n",
    "        self.cooling_system = cooling_system\n",
    "    def start_game(self,name):\n",
    "        print(f\"👉 Playing {name} on {self.model}\")"
   ]
  },
  {
   "cell_type": "code",
   "execution_count": 22,
   "id": "40a4cc0c-b315-420c-82c2-9acf0c3b397b",
   "metadata": {},
   "outputs": [
    {
     "name": "stdout",
     "output_type": "stream",
     "text": [
      "👉 Playing Genshin Impact on ROG Phone 8\n"
     ]
    }
   ],
   "source": [
    "rog = GamingPhone(\"ROG Phone 8\", \"Android\", \"Liquid Cooling\")\n",
    "rog.start_game(\"Genshin Impact\")\n"
   ]
  },
  {
   "cell_type": "markdown",
   "id": "3b7d901c-d9a9-4a03-ad91-de38161c8e36",
   "metadata": {},
   "source": [
    "2. Make a class MobilePhone with:\n",
    "model (public)\n",
    "\n",
    "\n",
    "__battery (private, default 100)\n",
    " Add methods:\n",
    "\n",
    "\n",
    "use() → reduce battery\n",
    "\n",
    "\n",
    "charge() → increase battery (max 100)\n",
    "\n",
    "\n",
    "get_battery() → show battery\n",
    "\n",
    "\n",
    "Show that you can’t access __battery directly."
   ]
  },
  {
   "cell_type": "code",
   "execution_count": 32,
   "id": "ff2c0209-f882-4de3-a2b5-1133708df1b4",
   "metadata": {},
   "outputs": [],
   "source": [
    "class MobilePhone:\n",
    "    def __init__(self, model, battery = 100):\n",
    "        self.model = model\n",
    "        self.__battery = battery\n",
    "\n",
    "    def use(self,amount= 10):\n",
    "        self.__battery -= amount\n",
    "        if self.__battery < 0 :\n",
    "            self.__battery = 0\n",
    "        print(f\"Used {amount}%. Battery now: {self.__battery}%\")\n",
    "\n",
    "    def charge(self,amount= 10):\n",
    "        self.__battery += amount \n",
    "        if self.__battery > 100 :\n",
    "            self.__battery = 100\n",
    "        \n",
    "        print(f\"Charged {amount}%. Battery now: {self.__battery}%\")\n",
    "\n",
    "    def get_battery(self):\n",
    "        return self.__battery"
   ]
  },
  {
   "cell_type": "code",
   "execution_count": 34,
   "id": "b1167b0e-8885-4a4e-8149-c6ae7fc37f0e",
   "metadata": {},
   "outputs": [
    {
     "name": "stdout",
     "output_type": "stream",
     "text": [
      "Used 50%. Battery now: 50%\n",
      "Charged 15%. Battery now: 65%\n",
      "65\n"
     ]
    }
   ],
   "source": [
    "phone = MobilePhone(\"ipoone\")\n",
    "phone.use(50)\n",
    "phone.charge(15)\n",
    "print(phone.get_battery())"
   ]
  },
  {
   "cell_type": "code",
   "execution_count": null,
   "id": "d0770e44-5b03-49b2-b383-24ce234e5313",
   "metadata": {},
   "outputs": [],
   "source": []
  }
 ],
 "metadata": {
  "kernelspec": {
   "display_name": "Python 3 (ipykernel)",
   "language": "python",
   "name": "python3"
  },
  "language_info": {
   "codemirror_mode": {
    "name": "ipython",
    "version": 3
   },
   "file_extension": ".py",
   "mimetype": "text/x-python",
   "name": "python",
   "nbconvert_exporter": "python",
   "pygments_lexer": "ipython3",
   "version": "3.13.5"
  },
  "widgets": {
   "application/vnd.jupyter.widget-state+json": {
    "state": {},
    "version_major": 2,
    "version_minor": 0
   }
  }
 },
 "nbformat": 4,
 "nbformat_minor": 5
}
