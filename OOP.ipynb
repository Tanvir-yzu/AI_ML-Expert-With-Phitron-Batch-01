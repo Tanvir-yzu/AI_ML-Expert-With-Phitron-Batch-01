{
 "cells": [
  {
   "cell_type": "markdown",
   "id": "9a63adfe-15ce-4725-afbd-7a82d38dd569",
   "metadata": {},
   "source": [
    "1. Make three classes:\n",
    "Phone → has model and battery (default 100).\n",
    "\n",
    "\n",
    "SmartPhone → inherits from Phone and adds operating system.\n",
    "\n",
    "\n",
    "GamingPhone  → inherits from SmartPhone and adds cooling_system.\n",
    " Add a method start_game(name) that prints\n",
    " 👉 \"Playing <name> on <model>\"."
   ]
  },
  {
   "cell_type": "markdown",
   "id": "3b7d901c-d9a9-4a03-ad91-de38161c8e36",
   "metadata": {},
   "source": [
    "2. Make a class MobilePhone with:\n",
    "model (public)\n",
    "\n",
    "\n",
    "__battery (private, default 100)\n",
    " Add methods:\n",
    "\n",
    "\n",
    "use() → reduce battery\n",
    "\n",
    "\n",
    "charge() → increase battery (max 100)\n",
    "\n",
    "\n",
    "get_battery() → show battery\n",
    "\n",
    "\n",
    "Show that you can’t access __battery directly."
   ]
  }
 ],
 "metadata": {
  "kernelspec": {
   "display_name": "Python 3 (ipykernel)",
   "language": "python",
   "name": "python3"
  },
  "language_info": {
   "codemirror_mode": {
    "name": "ipython",
    "version": 3
   },
   "file_extension": ".py",
   "mimetype": "text/x-python",
   "name": "python",
   "nbconvert_exporter": "python",
   "pygments_lexer": "ipython3",
   "version": "3.13.5"
  },
  "widgets": {
   "application/vnd.jupyter.widget-state+json": {
    "state": {},
    "version_major": 2,
    "version_minor": 0
   }
  }
 },
 "nbformat": 4,
 "nbformat_minor": 5
}
