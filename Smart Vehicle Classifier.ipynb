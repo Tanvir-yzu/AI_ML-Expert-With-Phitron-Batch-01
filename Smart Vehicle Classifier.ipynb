{
 "cells": [
  {
   "cell_type": "markdown",
   "id": "e152e6b9-978e-405f-aa7d-2d35e1a65d83",
   "metadata": {},
   "source": [
    "# Practice Day 8.5  \n",
    "## Project Name:  \n",
    "**Smart Vehicle Classifier**\n",
    "\n",
    "---\n",
    "\n",
    "### **Description**\n",
    "This project simulates a simple AI-based vehicle classifier using **Object-Oriented Programming (OOP)**.  \n",
    "It demonstrates:\n",
    "- Inheritance  \n",
    "- Protected and private members  \n",
    "- Method overriding  \n",
    "- Encapsulation  \n",
    "\n",
    "The program manages two types of vehicles: **Car** and **Bike**, both inheriting from a base class **Vehicle**.  \n",
    "A simple classifier method predicts the type of vehicle based on its **speed threshold**.\n",
    "\n",
    "---\n",
    "\n",
    "### **Task Statement**\n",
    "Design and implement a simple program that classifies vehicles based on their type and speed using **OOP principles**.\n",
    "\n",
    "#### **Requirements**\n",
    "You must:\n",
    "1. Create a base class **Vehicle** that stores vehicle type, name, and speed.  \n",
    "2. Use **protected** and **private** attributes in the base class to demonstrate encapsulation.  \n",
    "3. Implement a method `classify()` that categorizes vehicles as:\n",
    "   - **High-speed Vehicle** → speed > 100  \n",
    "   - **Normal Vehicle** → otherwise  \n",
    "4. Derive two subclasses — **Car** and **Bike** — from **Vehicle**.  \n",
    "   - Each subclass should override the `show_info()` method to display detailed information.  \n",
    "5. Read multiple inputs representing different vehicles, create corresponding objects, and print their details along with their classification results.\n",
    "\n",
    "---\n",
    "\n",
    "### **Input**\n",
    "\n",
    "3\n",
    "Car Toyota 150\n",
    "Bike Yamaha 90\n",
    "Car Honda 120\n",
    "\n",
    "\n",
    "---\n",
    "\n",
    "### **Output**\n",
    "Car Added: Toyota\n",
    "Bike Added: Yamaha\n",
    "Car Added: Honda\n",
    "\n",
    "--- Vehicle Details ---\n",
    "Type: Car, Name: Toyota, Speed: 150 km/h, Predicted: High-speed Vehicle\n",
    "Type: Bike, Name: Yamaha, Speed: 90 km/h, Predicted: Normal Vehicle\n",
    "Type: Car, Name: Honda, Speed: 120 km/h, Predicted: High-speed Vehicle\n",
    "\n",
    "\n",
    "---\n",
    "\n",
    "### **Short Hint**\n",
    "- Use a **base class Vehicle** with protected (`_attribute`) and private (`__attribute`) attributes.  \n",
    "- Create **subclasses Car and Bike** that override `show_info()`.  \n",
    "- Implement a simple **speed-based classifier** using the `classify()` method.  \n",
    "- Any speed above **100** is considered a **\"High-speed Vehicle\"**.\n",
    "\n",
    "---"
   ]
  }
 ],
 "metadata": {
  "kernelspec": {
   "display_name": "Python 3 (ipykernel)",
   "language": "python",
   "name": "python3"
  },
  "language_info": {
   "codemirror_mode": {
    "name": "ipython",
    "version": 3
   },
   "file_extension": ".py",
   "mimetype": "text/x-python",
   "name": "python",
   "nbconvert_exporter": "python",
   "pygments_lexer": "ipython3",
   "version": "3.13.5"
  },
  "widgets": {
   "application/vnd.jupyter.widget-state+json": {
    "state": {},
    "version_major": 2,
    "version_minor": 0
   }
  }
 },
 "nbformat": 4,
 "nbformat_minor": 5
}
