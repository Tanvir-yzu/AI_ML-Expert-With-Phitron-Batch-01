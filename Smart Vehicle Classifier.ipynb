{
 "cells": [
  {
   "cell_type": "markdown",
   "id": "e152e6b9-978e-405f-aa7d-2d35e1a65d83",
   "metadata": {},
   "source": [
    "# Practice Day 8.5  \n",
    "## Project Name:  \n",
    "**Smart Vehicle Classifier**\n",
    "\n",
    "---\n",
    "\n",
    "### **Description**\n",
    "This project simulates a simple AI-based vehicle classifier using **Object-Oriented Programming (OOP)**.  \n",
    "It demonstrates:\n",
    "- Inheritance  \n",
    "- Protected and private members  \n",
    "- Method overriding  \n",
    "- Encapsulation  \n",
    "\n",
    "The program manages two types of vehicles: **Car** and **Bike**, both inheriting from a base class **Vehicle**.  \n",
    "A simple classifier method predicts the type of vehicle based on its **speed threshold**.\n",
    "\n",
    "---\n",
    "\n",
    "### **Task Statement**\n",
    "Design and implement a simple program that classifies vehicles based on their type and speed using **OOP principles**.\n",
    "\n",
    "#### **Requirements**\n",
    "You must:\n",
    "1. Create a base class **Vehicle** that stores vehicle type, name, and speed.  \n",
    "2. Use **protected** and **private** attributes in the base class to demonstrate encapsulation.  \n",
    "3. Implement a method `classify()` that categorizes vehicles as:\n",
    "   - **High-speed Vehicle** → speed > 100  \n",
    "   - **Normal Vehicle** → otherwise  \n",
    "4. Derive two subclasses — **Car** and **Bike** — from **Vehicle**.  \n",
    "   - Each subclass should override the `show_info()` method to display detailed information.  \n",
    "5. Read multiple inputs representing different vehicles, create corresponding objects, and print their details along with their classification results.\n",
    "\n",
    "---\n",
    "\n",
    "### **Input**\n",
    "\n",
    "3\n",
    "Car Toyota 150\n",
    "Bike Yamaha 90\n",
    "Car Honda 120\n",
    "\n",
    "\n",
    "---\n",
    "\n",
    "### **Output**\n",
    "Car Added: Toyota\n",
    "Bike Added: Yamaha\n",
    "Car Added: Honda\n",
    "\n",
    "--- Vehicle Details ---\n",
    "Type: Car, Name: Toyota, Speed: 150 km/h, Predicted: High-speed Vehicle\n",
    "Type: Bike, Name: Yamaha, Speed: 90 km/h, Predicted: Normal Vehicle\n",
    "Type: Car, Name: Honda, Speed: 120 km/h, Predicted: High-speed Vehicle\n",
    "\n",
    "\n",
    "---\n",
    "\n",
    "### **Short Hint**\n",
    "- Use a **base class Vehicle** with protected (`_attribute`) and private (`__attribute`) attributes.  \n",
    "- Create **subclasses Car and Bike** that override `show_info()`.  \n",
    "- Implement a simple **speed-based classifier** using the `classify()` method.  \n",
    "- Any speed above **100** is considered a **\"High-speed Vehicle\"**.\n",
    "\n",
    "---"
   ]
  },
  {
   "cell_type": "code",
   "execution_count": 16,
   "id": "e8a0c61a-c681-4a43-abf1-22722b90d4a5",
   "metadata": {},
   "outputs": [],
   "source": [
    "class Vehicle:\n",
    "    def __init__(self, v_type, name, speed):\n",
    "        self._type = v_type    # Protected\n",
    "        self._name = name      # Protected\n",
    "        self.__speed = speed   # Private\n",
    "\n",
    "    def get_speed(self):\n",
    "        return self.__speed\n",
    "\n",
    "    def classify(self):\n",
    "        if self.__speed > 100:\n",
    "            return \"High-speed Vehicle\"\n",
    "        else:\n",
    "            return \"Normal Vehicle\"\n",
    "\n",
    "    def show_info(self):\n",
    "        pass  # To be overridden"
   ]
  },
  {
   "cell_type": "code",
   "execution_count": 32,
   "id": "d9375ad7-cebf-4594-aa01-fc317d36f1e8",
   "metadata": {},
   "outputs": [],
   "source": [
    "class Car(Vehicle):\n",
    "    def __init__(self, name, speed):\n",
    "        super().__init__(\"Car\", name, speed)\n",
    "\n",
    "    def show_info(self):\n",
    "        print(f\"Type: Car, Name: {self._name}, Speed: {self.get_speed()} km/h, Predicted: {self.classify()}\")\n",
    "        "
   ]
  },
  {
   "cell_type": "code",
   "execution_count": 43,
   "id": "a173fccb-d489-4f28-bb01-4fc2459d0505",
   "metadata": {},
   "outputs": [],
   "source": [
    "class Bike(Vehicle):\n",
    "    def __init__(self, name, speed):\n",
    "        super().__init__(\"Bike\", name, speed)\n",
    "\n",
    "    def show_info(self):\n",
    "        print(f\"Type: Bike, Name: {self._name}, Speed: {self.get_speed()} km/h, Predicted: {self.classify()}\")"
   ]
  },
  {
   "cell_type": "code",
   "execution_count": 44,
   "id": "fc55d479-4c77-46fd-8937-81e88c9c6168",
   "metadata": {},
   "outputs": [
    {
     "name": "stdin",
     "output_type": "stream",
     "text": [
      " 2\n",
      " Car dfds 200\n"
     ]
    },
    {
     "name": "stdout",
     "output_type": "stream",
     "text": [
      "Car Added: dfds\n"
     ]
    },
    {
     "name": "stdin",
     "output_type": "stream",
     "text": [
      " Bike sff 500\n"
     ]
    },
    {
     "name": "stdout",
     "output_type": "stream",
     "text": [
      "Bike Added: sff\n",
      "\n",
      "--- Vehicle Details ---\n",
      "Type: Car, Name: dfds, Speed: 200 km/h, Predicted: High-speed Vehicle\n",
      "Type: Bike, Name: sff, Speed: 500 km/h, Predicted: High-speed Vehicle\n"
     ]
    }
   ],
   "source": [
    "\n",
    "\n",
    "n = int(input())\n",
    "vehicles = []\n",
    "\n",
    "for _ in range(n):\n",
    "    part = input().strip().split()  # Clean split\n",
    "    v_type = part[0]\n",
    "    name = part[1]\n",
    "    speed = int(part[2])  # Convert speed to integer\n",
    "\n",
    "    if v_type == \"Car\":\n",
    "        vehicle = Car(name, speed)\n",
    "    elif v_type == \"Bike\":\n",
    "        vehicle = Bike(name, speed)\n",
    "    else:\n",
    "        continue  # Skip unknown types\n",
    "\n",
    "    vehicles.append(vehicle)\n",
    "    print(f\"{v_type} Added: {name}\")\n",
    "\n",
    "# Print separator and vehicle details\n",
    "print(\"\\n--- Vehicle Details ---\")\n",
    "for vehicle in vehicles:\n",
    "    vehicle.show_info()"
   ]
  },
  {
   "cell_type": "code",
   "execution_count": 35,
   "id": "5bef67b1-38bf-478e-a2ef-3028783e1977",
   "metadata": {},
   "outputs": [
    {
     "name": "stdout",
     "output_type": "stream",
     "text": [
      "Type: Car, Name: Tesla, Speed: 130 km/h, Predicted: High-speed Vehicle\n",
      "Type: Bike, Name: honda, Speed: 50 km/h, Predicted: Normal Vehicle\n"
     ]
    }
   ],
   "source": [
    "# Test\n",
    "car = Car(\"Tesla\", 130)\n",
    "car.show_info()\n",
    "Bike = Bike(\"honda\", 50)\n",
    "Bike.show_info()"
   ]
  },
  {
   "cell_type": "code",
   "execution_count": null,
   "id": "453dab25-ef98-4cc4-b335-1bb4a360f6c8",
   "metadata": {},
   "outputs": [],
   "source": []
  }
 ],
 "metadata": {
  "kernelspec": {
   "display_name": "Python 3 (ipykernel)",
   "language": "python",
   "name": "python3"
  },
  "language_info": {
   "codemirror_mode": {
    "name": "ipython",
    "version": 3
   },
   "file_extension": ".py",
   "mimetype": "text/x-python",
   "name": "python",
   "nbconvert_exporter": "python",
   "pygments_lexer": "ipython3",
   "version": "3.13.5"
  },
  "widgets": {
   "application/vnd.jupyter.widget-state+json": {
    "state": {},
    "version_major": 2,
    "version_minor": 0
   }
  }
 },
 "nbformat": 4,
 "nbformat_minor": 5
}
