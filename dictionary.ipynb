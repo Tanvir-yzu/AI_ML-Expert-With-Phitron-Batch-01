{
 "cells": [
  {
   "cell_type": "markdown",
   "id": "89ddc580-de81-439a-9d7b-0d8e77aff999",
   "metadata": {},
   "source": [
    "## dictionary"
   ]
  },
  {
   "cell_type": "code",
   "execution_count": 1,
   "id": "3d409f99-83cb-4fc0-9cfe-a08c5dd0b2df",
   "metadata": {},
   "outputs": [
    {
     "data": {
      "text/plain": [
       "{'name': 'Tanvir Islam',\n",
       " 'age': 22,\n",
       " 'gender': 'Male',\n",
       " 'email': 'tanvir@example.com',\n",
       " 'skills': ['Python', 'Django', 'Tailwind CSS'],\n",
       " 'address': {'street': '123 Green Road',\n",
       "  'city': 'Dhaka',\n",
       "  'country': 'Bangladesh'},\n",
       " 'contacts': {'phone': '+880123456789',\n",
       "  'whatsapp': '+880987654321',\n",
       "  'linkedin': 'https://linkedin.com/in/tanvirislam',\n",
       "  'github': 'https://github.com/tanvirislam'}}"
      ]
     },
     "execution_count": 1,
     "metadata": {},
     "output_type": "execute_result"
    }
   ],
   "source": [
    "{\n",
    "    'name': 'Tanvir Islam',\n",
    "    'age': 22,\n",
    "    'gender': 'Male',\n",
    "    'email': 'tanvir@example.com',\n",
    "    'skills': ['Python', 'Django', 'Tailwind CSS'],\n",
    "    'address': {\n",
    "        'street': '123 Green Road',\n",
    "        'city': 'Dhaka',\n",
    "        'country': 'Bangladesh'\n",
    "    },\n",
    "    'contacts': {\n",
    "        'phone': '+880123456789',\n",
    "        'whatsapp': '+880987654321',\n",
    "        'linkedin': 'https://linkedin.com/in/tanvirislam',\n",
    "        'github': 'https://github.com/tanvirislam'\n",
    "    }\n",
    "}\n"
   ]
  },
  {
   "cell_type": "code",
   "execution_count": 30,
   "id": "aecfc9d5-a57e-49d5-95d3-1265746fe954",
   "metadata": {},
   "outputs": [
    {
     "name": "stdout",
     "output_type": "stream",
     "text": [
      "22\n",
      "Dhaka\n",
      "https://linkedin.com/in/tanvirislam\n",
      "['Python', 'Django', 'Tailwind CSS']\n",
      "Python\n",
      "Django\n",
      "Tailwind CSS\n"
     ]
    }
   ],
   "source": [
    "from dataclasses import dataclass\n",
    "\n",
    "@dataclass\n",
    "class Address:\n",
    "    street: str\n",
    "    city: str\n",
    "    country: str\n",
    "\n",
    "@dataclass\n",
    "class Contacts:\n",
    "    phone: str\n",
    "    whatsapp: str\n",
    "    linkedin: str\n",
    "    github: str\n",
    "\n",
    "@dataclass\n",
    "class Person:\n",
    "    name: str\n",
    "    age: int\n",
    "    gender: str\n",
    "    email: str\n",
    "    skills: list[str]\n",
    "    address: Address\n",
    "    contacts: Contacts\n",
    "\n",
    "\n",
    "# ✅ Create Person instance correctly\n",
    "person = Person(\n",
    "    name='Tanvir Islam',\n",
    "    age=22,\n",
    "    gender='Male',\n",
    "    email='tanvir@example.com',\n",
    "    skills=['Python', 'Django', 'Tailwind CSS'],\n",
    "    address=Address(\n",
    "        street='123 Green Road',\n",
    "        city='Dhaka',\n",
    "        country='Bangladesh'\n",
    "    ),\n",
    "    contacts=Contacts(\n",
    "        phone='+880123456789',\n",
    "        whatsapp='+880987654321',\n",
    "        linkedin='https://linkedin.com/in/tanvirislam',\n",
    "        github='https://github.com/tanvirislam'\n",
    "    )\n",
    ")\n",
    "\n",
    "# ✅ Access data using dot notation\n",
    "print(person.age)              # Tanvir Islam\n",
    "print(person.address.city)      # Dhaka\n",
    "print(person.contacts.linkedin) # https://linkedin.com/in/tanvirislam\n",
    "print(person.skills)\n",
    "\n",
    "for sk in person.skills:\n",
    "    print(sk)\n"
   ]
  },
  {
   "cell_type": "code",
   "execution_count": 32,
   "id": "70521220-d4c8-46d5-ae0c-1d58ef5a681e",
   "metadata": {},
   "outputs": [
    {
     "name": "stdout",
     "output_type": "stream",
     "text": [
      "Tanvir Islam\n"
     ]
    }
   ],
   "source": [
    "from typing import TypedDict\n",
    "\n",
    "class Address(TypedDict):\n",
    "    street: str\n",
    "    city: str\n",
    "    country: str\n",
    "\n",
    "class Contacts(TypedDict):\n",
    "    phone: str\n",
    "    whatsapp: str\n",
    "    linkedin: str\n",
    "    github: str\n",
    "\n",
    "class Person(TypedDict):\n",
    "    name: str\n",
    "    age: int\n",
    "    gender: str\n",
    "    email: str\n",
    "    skills: list[str]\n",
    "    address: Address\n",
    "    contacts: Contacts\n",
    "\n",
    "person: Person = {\n",
    "    'name': 'Tanvir Islam',\n",
    "    'age': 22,\n",
    "    'gender': 'Male',\n",
    "    'email': 'tanvir@example.com',\n",
    "    'skills': ['Python', 'Django', 'Tailwind CSS'],\n",
    "    'address': {\n",
    "        'street': '123 Green Road',\n",
    "        'city': 'Dhaka',\n",
    "        'country': 'Bangladesh'\n",
    "    },\n",
    "    'contacts': {\n",
    "        'phone': '+880123456789',\n",
    "        'whatsapp': '+880987654321',\n",
    "        'linkedin': 'https://linkedin.com/in/tanvirislam',\n",
    "        'github': 'https://github.com/tanvirislam'\n",
    "    }\n",
    "}\n",
    "\n",
    "print(person[\"name\"])  # ✅ Access by key\n"
   ]
  },
  {
   "cell_type": "code",
   "execution_count": null,
   "id": "268e4348-9fd0-48c8-8ede-18070d36b0ad",
   "metadata": {},
   "outputs": [],
   "source": []
  }
 ],
 "metadata": {
  "kernelspec": {
   "display_name": "Python 3 (ipykernel)",
   "language": "python",
   "name": "python3"
  },
  "language_info": {
   "codemirror_mode": {
    "name": "ipython",
    "version": 3
   },
   "file_extension": ".py",
   "mimetype": "text/x-python",
   "name": "python",
   "nbconvert_exporter": "python",
   "pygments_lexer": "ipython3",
   "version": "3.13.5"
  },
  "widgets": {
   "application/vnd.jupyter.widget-state+json": {
    "state": {},
    "version_major": 2,
    "version_minor": 0
   }
  }
 },
 "nbformat": 4,
 "nbformat_minor": 5
}
