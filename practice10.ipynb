{
 "cells": [
  {
   "cell_type": "markdown",
   "id": "b48adecc-55f8-46d0-9f64-48962d1021e7",
   "metadata": {},
   "source": [
    "1. You have a list of temperatures recorded in Celsius. Your task is to:\n",
    "Create a NumPy array from the given list.\n",
    "Convert all temperatures from Celsius to Fahrenheit. The formula is F = C* 1.8 + 32.\n",
    "Print the new Fahrenheit array"
   ]
  },
  {
   "cell_type": "code",
   "execution_count": 7,
   "id": "7dc65a58-d46c-4b4b-a8d5-d073f41778b8",
   "metadata": {},
   "outputs": [],
   "source": [
    "import numpy as np\n",
    "\n",
    "cel_list = [0,10,20,30,40]\n",
    "\n",
    "cel_array = np.array(cel_list)\n",
    "\n",
    "fah_arrray = cel_array * 1.8 + 32\n"
   ]
  },
  {
   "cell_type": "code",
   "execution_count": 10,
   "id": "f9763026-89ed-4216-9e4c-777eee9756b6",
   "metadata": {},
   "outputs": [
    {
     "name": "stdout",
     "output_type": "stream",
     "text": [
      "Fahrenheit temperatures: [ 32.  50.  68.  86. 104.]\n"
     ]
    }
   ],
   "source": [
    "print(\"Fahrenheit temperatures:\", fah_arrray)"
   ]
  },
  {
   "cell_type": "markdown",
   "id": "db72f610-5b57-4870-a8ee-47243af57c3e",
   "metadata": {},
   "source": [
    "2.  You have a Python list containing the lap times (in seconds) for an athlete.\n",
    "\n",
    "Task:\n",
    "\n",
    "Convert the list into a NumPy array.\n",
    "Print the array's shape, size, and data type.\n",
    "The athlete wants to see their times in minutes. Create a new array by dividing all the lap times by 60.\n",
    "Print the new array of lap times in minutes\n"
   ]
  },
  {
   "cell_type": "code",
   "execution_count": 13,
   "id": "cbfbdc12-3aa2-48d0-a424-d74c9720f264",
   "metadata": {},
   "outputs": [],
   "source": [
    "lap_times_seconds = [120, 115, 130, 125, 118] \n",
    "lap_times_array = np.array(lap_times_seconds)"
   ]
  },
  {
   "cell_type": "code",
   "execution_count": 15,
   "id": "fe9fd14a-ed65-41f9-a8e4-eb839cf3e2bb",
   "metadata": {},
   "outputs": [
    {
     "name": "stdout",
     "output_type": "stream",
     "text": [
      "Lap times array (seconds): [120 115 130 125 118]\n",
      "Shape: (5,)\n",
      "Size: 5\n",
      "Data type: int64\n"
     ]
    }
   ],
   "source": [
    "# Step 3: Print array properties\n",
    "print(\"Lap times array (seconds):\", lap_times_array)\n",
    "print(\"Shape:\", lap_times_array.shape)    # e.g., (5,) for 5 elements\n",
    "print(\"Size:\", lap_times_array.size)      # total number of elements\n",
    "print(\"Data type:\", lap_times_array.dtype)  # e.g., int64 or float64"
   ]
  },
  {
   "cell_type": "code",
   "execution_count": 16,
   "id": "a325c8f0-73d5-4eb0-885e-2af3cffbd5cc",
   "metadata": {},
   "outputs": [],
   "source": [
    "lap_times_minutes  = lap_times_array / 60"
   ]
  },
  {
   "cell_type": "code",
   "execution_count": 17,
   "id": "892d82b5-ade4-4895-860a-d8f44cb2c7d8",
   "metadata": {},
   "outputs": [
    {
     "name": "stdout",
     "output_type": "stream",
     "text": [
      "Lap times in minutes: [2.         1.91666667 2.16666667 2.08333333 1.96666667]\n"
     ]
    }
   ],
   "source": [
    "print(\"Lap times in minutes:\", lap_times_minutes)"
   ]
  },
  {
   "cell_type": "code",
   "execution_count": null,
   "id": "1f96b580-2da8-478f-a1f5-bcbe7ba564a5",
   "metadata": {},
   "outputs": [],
   "source": []
  }
 ],
 "metadata": {
  "kernelspec": {
   "display_name": "Python 3 (ipykernel)",
   "language": "python",
   "name": "python3"
  },
  "language_info": {
   "codemirror_mode": {
    "name": "ipython",
    "version": 3
   },
   "file_extension": ".py",
   "mimetype": "text/x-python",
   "name": "python",
   "nbconvert_exporter": "python",
   "pygments_lexer": "ipython3",
   "version": "3.13.5"
  },
  "widgets": {
   "application/vnd.jupyter.widget-state+json": {
    "state": {},
    "version_major": 2,
    "version_minor": 0
   }
  }
 },
 "nbformat": 4,
 "nbformat_minor": 5
}
