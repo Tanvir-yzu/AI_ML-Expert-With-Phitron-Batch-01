{
 "cells": [
  {
   "cell_type": "markdown",
   "id": "ad1414d8-7076-4194-bb41-e0ea8f6033ab",
   "metadata": {},
   "source": [
    "## file "
   ]
  },
  {
   "cell_type": "code",
   "execution_count": 8,
   "id": "9dd5c9e0-bf4a-4ae4-972c-dd7c72805a03",
   "metadata": {},
   "outputs": [
    {
     "name": "stdout",
     "output_type": "stream",
     "text": [
      "hello\n"
     ]
    }
   ],
   "source": [
    "file = open(\"sample.txt\",\"r\")\n",
    "content = file.read()\n",
    "print(content)\n",
    "file.close()"
   ]
  },
  {
   "cell_type": "code",
   "execution_count": 9,
   "id": "7f1529dd-4ee6-42d4-9142-83ec7c9eef98",
   "metadata": {},
   "outputs": [
    {
     "name": "stdout",
     "output_type": "stream",
     "text": [
      "True\n"
     ]
    }
   ],
   "source": [
    "print(file.closed)"
   ]
  },
  {
   "cell_type": "code",
   "execution_count": 6,
   "id": "3262e40f-f4c1-43ec-b66d-829cae7c4fac",
   "metadata": {},
   "outputs": [
    {
     "name": "stdout",
     "output_type": "stream",
     "text": [
      "<class 'str'>\n"
     ]
    }
   ],
   "source": [
    "print(type(content))"
   ]
  },
  {
   "cell_type": "code",
   "execution_count": 12,
   "id": "af92ac4a-eba3-4160-9aa4-90c9aaeebacc",
   "metadata": {},
   "outputs": [
    {
     "name": "stdout",
     "output_type": "stream",
     "text": [
      "['hello']\n",
      "False\n"
     ]
    }
   ],
   "source": [
    "with open(\"sample.txt\",\"r\") as file:\n",
    "    content = file.readlines()\n",
    "    print(content)\n",
    "\n",
    "    print(file.closed)"
   ]
  },
  {
   "cell_type": "code",
   "execution_count": 13,
   "id": "4d9795be-1f19-4d65-b09f-299f3428fe9b",
   "metadata": {},
   "outputs": [
    {
     "name": "stdout",
     "output_type": "stream",
     "text": [
      "hello\n"
     ]
    }
   ],
   "source": [
    "with open(\"sample.txt\",\"r\") as file:\n",
    "    for line in file:\n",
    "        print(line)"
   ]
  },
  {
   "cell_type": "markdown",
   "id": "71249ddc-7b0d-432f-96f8-aef34612841a",
   "metadata": {},
   "source": [
    "## File Write"
   ]
  },
  {
   "cell_type": "code",
   "execution_count": 14,
   "id": "35e17bdc-2b82-418a-abc3-ca717a063168",
   "metadata": {},
   "outputs": [],
   "source": [
    "with open(\"sample.txt\",\"w\") as file:\n",
    "    file.write(\"Hello test file\\n\")\n",
    "    file.write(\"How is learning going on ?\")"
   ]
  },
  {
   "cell_type": "code",
   "execution_count": 17,
   "id": "1948c61d-c35e-4892-8f9d-050a370108f2",
   "metadata": {},
   "outputs": [],
   "source": [
    "with open(\"sample.txt\",\"w\") as file:\n",
    "    file.write(\"Second attempt\\n\")\n",
    "    file.write(\"learning is going fast\\n\")"
   ]
  },
  {
   "cell_type": "code",
   "execution_count": 18,
   "id": "c3a3f655-d8ec-42fd-8c06-0acb5bb1b2a9",
   "metadata": {},
   "outputs": [],
   "source": [
    "with open(\"sample.txt\",\"a\") as file:\n",
    "      file.write(\"The learning of AI/ML is fun\\n\")\n",
    "      file.write(\"I am enjoying the classes\")"
   ]
  },
  {
   "cell_type": "code",
   "execution_count": 25,
   "id": "581c93ac-7351-4b12-92a4-7bd26c7b08fd",
   "metadata": {},
   "outputs": [],
   "source": [
    "strings = ['hello','hi','good bye','what up']\n",
    "with open(\"sample2.txt\",\"a\") as file:\n",
    "    file.writelines(strings)"
   ]
  },
  {
   "cell_type": "code",
   "execution_count": 26,
   "id": "29114215-6010-4387-bee8-53b9fb023db2",
   "metadata": {},
   "outputs": [
    {
     "ename": "ZeroDivisionError",
     "evalue": "division by zero",
     "output_type": "error",
     "traceback": [
      "\u001b[1;31m---------------------------------------------------------------------------\u001b[0m",
      "\u001b[1;31mZeroDivisionError\u001b[0m                         Traceback (most recent call last)",
      "Cell \u001b[1;32mIn[26], line 1\u001b[0m\n\u001b[1;32m----> 1\u001b[0m a \u001b[38;5;241m=\u001b[39m \u001b[38;5;241;43m10\u001b[39;49m\u001b[38;5;241;43m/\u001b[39;49m\u001b[38;5;241;43m0\u001b[39;49m\n\u001b[0;32m      2\u001b[0m \u001b[38;5;28mprint\u001b[39m(a)\n",
      "\u001b[1;31mZeroDivisionError\u001b[0m: division by zero"
     ]
    }
   ],
   "source": [
    "a = 10/0\n",
    "print(a)"
   ]
  },
  {
   "cell_type": "code",
   "execution_count": 30,
   "id": "a0b6c2e8-3470-49b1-bf4e-297b6f524ab6",
   "metadata": {},
   "outputs": [
    {
     "name": "stdin",
     "output_type": "stream",
     "text": [
      " 0\n"
     ]
    },
    {
     "name": "stdout",
     "output_type": "stream",
     "text": [
      "division by zero\n"
     ]
    }
   ],
   "source": [
    "n = int(input())\n",
    "try :\n",
    "    a = 10/n\n",
    "    print(a)\n",
    "except ZeroDivisionError as z:\n",
    "    print(z)"
   ]
  },
  {
   "cell_type": "code",
   "execution_count": 33,
   "id": "c5cab3f2-5791-4a4c-9289-f779daa8826d",
   "metadata": {},
   "outputs": [
    {
     "name": "stdin",
     "output_type": "stream",
     "text": [
      " 5\n"
     ]
    },
    {
     "name": "stdout",
     "output_type": "stream",
     "text": [
      "2.0\n"
     ]
    }
   ],
   "source": [
    "n = int(input())\n",
    "try :\n",
    "    a = 10/n\n",
    "    print(a)\n",
    "except Exception  as e:\n",
    "    print(e)"
   ]
  },
  {
   "cell_type": "markdown",
   "id": "36173002-d8b7-429f-ab4d-690ccee88d87",
   "metadata": {},
   "source": [
    "## after setting "
   ]
  },
  {
   "cell_type": "code",
   "execution_count": 37,
   "id": "b4bb4453-ae89-4b89-8cec-4b3ee7f7883f",
   "metadata": {},
   "outputs": [],
   "source": [
    "from functools import reduce"
   ]
  },
  {
   "cell_type": "code",
   "execution_count": 38,
   "id": "faef7da6-af8f-4fab-a91f-0fc99c8b8830",
   "metadata": {},
   "outputs": [],
   "source": [
    "import pandas as pd"
   ]
  },
  {
   "cell_type": "code",
   "execution_count": null,
   "id": "afbe56d0-9574-4939-a46d-aa81e788ddf5",
   "metadata": {},
   "outputs": [],
   "source": [
    "df1 = pd.DataFrame()"
   ]
  },
  {
   "cell_type": "code",
   "execution_count": null,
   "id": "54bf93a9-6658-4fbc-88cb-8c546711a07c",
   "metadata": {},
   "outputs": [],
   "source": []
  }
 ],
 "metadata": {
  "kernelspec": {
   "display_name": "Python 3 (ipykernel)",
   "language": "python",
   "name": "python3"
  },
  "language_info": {
   "codemirror_mode": {
    "name": "ipython",
    "version": 3
   },
   "file_extension": ".py",
   "mimetype": "text/x-python",
   "name": "python",
   "nbconvert_exporter": "python",
   "pygments_lexer": "ipython3",
   "version": "3.13.5"
  },
  "widgets": {
   "application/vnd.jupyter.widget-state+json": {
    "state": {},
    "version_major": 2,
    "version_minor": 0
   }
  }
 },
 "nbformat": 4,
 "nbformat_minor": 5
}
